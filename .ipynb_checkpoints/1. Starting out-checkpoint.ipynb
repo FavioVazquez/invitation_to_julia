{
 "cells": [
  {
   "cell_type": "markdown",
   "metadata": {},
   "source": [
    "# Example: The Newton method for finding roots of functions "
   ]
  },
  {
   "cell_type": "markdown",
   "metadata": {},
   "source": [
    "The Newton method is an iterative method to solve equations of the form $f(x)=0$, i.e. to find *roots* or *zeros* $x^\\ast$ such that $f(x^\\ast) = 0$. Given an initial guess $x_0$, we repeat the iteration\n",
    "\n",
    "$$x_{n+1} = x_n - \\frac{f(x_n)}{f'(x_n)}.$$"
   ]
  },
  {
   "cell_type": "markdown",
   "metadata": {},
   "source": [
    "## Variables"
   ]
  },
  {
   "cell_type": "markdown",
   "metadata": {},
   "source": [
    "Let's implement the Newton algorithm in Julia. We start from an initial condition $x_0$:"
   ]
  },
  {
   "cell_type": "code",
   "execution_count": 1,
   "metadata": {
    "collapsed": false
   },
   "outputs": [
    {
     "data": {
      "text/plain": [
       "3"
      ]
     },
     "execution_count": 1,
     "metadata": {},
     "output_type": "execute_result"
    }
   ],
   "source": [
    "x_0 = 3"
   ]
  },
  {
   "cell_type": "markdown",
   "metadata": {},
   "source": [
    "Julia always returns a value from any expression:"
   ]
  },
  {
   "cell_type": "code",
   "execution_count": 2,
   "metadata": {
    "collapsed": false
   },
   "outputs": [
    {
     "data": {
      "text/plain": [
       "3"
      ]
     },
     "execution_count": 2,
     "metadata": {},
     "output_type": "execute_result"
    }
   ],
   "source": [
    "x_0"
   ]
  },
  {
   "cell_type": "markdown",
   "metadata": {},
   "source": [
    "We can use LaTeX notation and tab completion for Unicode, e.g. `x\\_0<TAB>`:"
   ]
  },
  {
   "cell_type": "code",
   "execution_count": 3,
   "metadata": {
    "collapsed": false
   },
   "outputs": [
    {
     "data": {
      "text/plain": [
       "4"
      ]
     },
     "execution_count": 3,
     "metadata": {},
     "output_type": "execute_result"
    }
   ],
   "source": [
    "x₀ = 4"
   ]
  },
  {
   "cell_type": "code",
   "execution_count": 4,
   "metadata": {
    "collapsed": false
   },
   "outputs": [
    {
     "data": {
      "text/plain": [
       "4"
      ]
     },
     "execution_count": 4,
     "metadata": {},
     "output_type": "execute_result"
    }
   ],
   "source": [
    "x₀"
   ]
  },
  {
   "cell_type": "markdown",
   "metadata": {},
   "source": [
    "Values in Julia have associated **types**. We can find the type of a variable using the appropriately-named `typeof` function:"
   ]
  },
  {
   "cell_type": "code",
   "execution_count": 5,
   "metadata": {
    "collapsed": false
   },
   "outputs": [
    {
     "data": {
      "text/plain": [
       "Int64"
      ]
     },
     "execution_count": 5,
     "metadata": {},
     "output_type": "execute_result"
    }
   ],
   "source": [
    "typeof(x₀)"
   ]
  },
  {
   "cell_type": "markdown",
   "metadata": {},
   "source": [
    "We can guess that this means an integer with 64 bits. [This result will be `Int32` if you have a 32-bit machine.]"
   ]
  },
  {
   "cell_type": "markdown",
   "metadata": {},
   "source": [
    "## Simple functions "
   ]
  },
  {
   "cell_type": "markdown",
   "metadata": {},
   "source": [
    "We need to define a function whose roots we wish to find. Let's find square roots of two, for example. Julia provides a concise mathematical syntax for defining simple functions:"
   ]
  },
  {
   "cell_type": "code",
   "execution_count": 6,
   "metadata": {
    "collapsed": false
   },
   "outputs": [
    {
     "data": {
      "text/plain": [
       "f (generic function with 1 method)"
      ]
     },
     "execution_count": 6,
     "metadata": {},
     "output_type": "execute_result"
    }
   ],
   "source": [
    "f(x) = x^2 - 2"
   ]
  },
  {
   "cell_type": "code",
   "execution_count": 7,
   "metadata": {
    "collapsed": false
   },
   "outputs": [
    {
     "data": {
      "text/plain": [
       "7"
      ]
     },
     "execution_count": 7,
     "metadata": {},
     "output_type": "execute_result"
    }
   ],
   "source": [
    "f(x_0)"
   ]
  },
  {
   "cell_type": "markdown",
   "metadata": {},
   "source": [
    "We also need the derivative function, $f'$. For the moment, let's just give it my hand. (Later, we will see a neat way to avoid this.) We may like to write `f'`, using the apostrophe, `'`), but the apostrophe turns out to be a special character in Julia, so we get an error if we try to define a variable or function named `f'`:"
   ]
  },
  {
   "cell_type": "code",
   "execution_count": 8,
   "metadata": {
    "collapsed": false
   },
   "outputs": [
    {
     "ename": "LoadError",
     "evalue": "syntax: invalid method name \"f'\"\nwhile loading In[8], in expression starting on line 1",
     "output_type": "error",
     "traceback": [
      "syntax: invalid method name \"f'\"\nwhile loading In[8], in expression starting on line 1",
      ""
     ]
    }
   ],
   "source": [
    "f'(x) = 2x"
   ]
  },
  {
   "cell_type": "markdown",
   "metadata": {},
   "source": [
    "However, Unicode comes to our rescue: `f\\prime<TAB>`:"
   ]
  },
  {
   "cell_type": "code",
   "execution_count": 9,
   "metadata": {
    "collapsed": false
   },
   "outputs": [
    {
     "data": {
      "text/plain": [
       "f′ (generic function with 1 method)"
      ]
     },
     "execution_count": 9,
     "metadata": {},
     "output_type": "execute_result"
    }
   ],
   "source": [
    "f′(x) = 2x"
   ]
  },
  {
   "cell_type": "markdown",
   "metadata": {},
   "source": [
    "Now we can do one step of our algorithm; mathematical operations work like we expect:"
   ]
  },
  {
   "cell_type": "code",
   "execution_count": 10,
   "metadata": {
    "collapsed": false
   },
   "outputs": [
    {
     "data": {
      "text/plain": [
       "1.8333333333333333"
      ]
     },
     "execution_count": 10,
     "metadata": {},
     "output_type": "execute_result"
    }
   ],
   "source": [
    "x_1 = x_0 - f(x_0) / f′(x_0)"
   ]
  },
  {
   "cell_type": "markdown",
   "metadata": {},
   "source": [
    "Note that division of integers using `/` gives a floating-point result:"
   ]
  },
  {
   "cell_type": "code",
   "execution_count": 11,
   "metadata": {
    "collapsed": false
   },
   "outputs": [
    {
     "data": {
      "text/plain": [
       "Float64"
      ]
     },
     "execution_count": 11,
     "metadata": {},
     "output_type": "execute_result"
    }
   ],
   "source": [
    "typeof(x_1)"
   ]
  },
  {
   "cell_type": "markdown",
   "metadata": {},
   "source": [
    "Integer division"
   ]
  },
  {
   "cell_type": "code",
   "execution_count": 12,
   "metadata": {
    "collapsed": false
   },
   "outputs": [
    {
     "data": {
      "text/plain": [
       "2"
      ]
     },
     "execution_count": 12,
     "metadata": {},
     "output_type": "execute_result"
    }
   ],
   "source": [
    "div(4,2)"
   ]
  },
  {
   "cell_type": "markdown",
   "metadata": {},
   "source": [
    "Integer division gives me a truncated value of a division if the result is actually a float"
   ]
  },
  {
   "cell_type": "code",
   "execution_count": 13,
   "metadata": {
    "collapsed": false
   },
   "outputs": [
    {
     "data": {
      "text/plain": [
       "2"
      ]
     },
     "execution_count": 13,
     "metadata": {},
     "output_type": "execute_result"
    }
   ],
   "source": [
    "div(5,2)"
   ]
  },
  {
   "cell_type": "markdown",
   "metadata": {},
   "source": [
    "Julia has a neat built-in funcion called bits, that gives me the bynary representation of a variable"
   ]
  },
  {
   "cell_type": "code",
   "execution_count": 14,
   "metadata": {
    "collapsed": false
   },
   "outputs": [
    {
     "data": {
      "text/plain": [
       "1000000000000000"
      ]
     },
     "execution_count": 14,
     "metadata": {},
     "output_type": "execute_result"
    }
   ],
   "source": [
    "ξ = 1000000000000000"
   ]
  },
  {
   "cell_type": "code",
   "execution_count": 15,
   "metadata": {
    "collapsed": false
   },
   "outputs": [
    {
     "data": {
      "text/plain": [
       "\"0000000000000011100011010111111010100100110001101000000000000000\""
      ]
     },
     "execution_count": 15,
     "metadata": {},
     "output_type": "execute_result"
    }
   ],
   "source": [
    "bits(ξ)"
   ]
  },
  {
   "cell_type": "markdown",
   "metadata": {},
   "source": [
    "Non-sense could happen if you try to fit a really big number in a `int64` variable for example "
   ]
  },
  {
   "cell_type": "code",
   "execution_count": 16,
   "metadata": {
    "collapsed": false
   },
   "outputs": [
    {
     "data": {
      "text/plain": [
       "4611686018427387904"
      ]
     },
     "execution_count": 16,
     "metadata": {},
     "output_type": "execute_result"
    }
   ],
   "source": [
    "τ = 2^62"
   ]
  },
  {
   "cell_type": "code",
   "execution_count": 17,
   "metadata": {
    "collapsed": false
   },
   "outputs": [
    {
     "data": {
      "text/plain": [
       "0"
      ]
     },
     "execution_count": 17,
     "metadata": {},
     "output_type": "execute_result"
    }
   ],
   "source": [
    "τ^2"
   ]
  },
  {
   "cell_type": "code",
   "execution_count": 18,
   "metadata": {
    "collapsed": false
   },
   "outputs": [
    {
     "data": {
      "text/plain": [
       "\"0100000000000000000000000000000000000000000000000000000000000000\""
      ]
     },
     "execution_count": 18,
     "metadata": {},
     "output_type": "execute_result"
    }
   ],
   "source": [
    "bits(τ)"
   ]
  },
  {
   "cell_type": "code",
   "execution_count": 19,
   "metadata": {
    "collapsed": false
   },
   "outputs": [
    {
     "data": {
      "text/plain": [
       "-9223372036854775808"
      ]
     },
     "execution_count": 19,
     "metadata": {},
     "output_type": "execute_result"
    }
   ],
   "source": [
    "τ = τ * 2"
   ]
  },
  {
   "cell_type": "markdown",
   "metadata": {},
   "source": [
    "A solution to this is Big Integers"
   ]
  },
  {
   "cell_type": "code",
   "execution_count": 20,
   "metadata": {
    "collapsed": false
   },
   "outputs": [
    {
     "data": {
      "text/plain": [
       "2"
      ]
     },
     "execution_count": 20,
     "metadata": {},
     "output_type": "execute_result"
    }
   ],
   "source": [
    "x = big(2)"
   ]
  },
  {
   "cell_type": "code",
   "execution_count": 21,
   "metadata": {
    "collapsed": false
   },
   "outputs": [
    {
     "data": {
      "text/plain": [
       "BigInt (constructor with 10 methods)"
      ]
     },
     "execution_count": 21,
     "metadata": {},
     "output_type": "execute_result"
    }
   ],
   "source": [
    "typeof(x)"
   ]
  },
  {
   "cell_type": "code",
   "execution_count": 22,
   "metadata": {
    "collapsed": false
   },
   "outputs": [
    {
     "data": {
      "text/plain": [
       "4611686018427387904"
      ]
     },
     "execution_count": 22,
     "metadata": {},
     "output_type": "execute_result"
    }
   ],
   "source": [
    "x = big(2)^62"
   ]
  },
  {
   "cell_type": "code",
   "execution_count": 23,
   "metadata": {
    "collapsed": false
   },
   "outputs": [
    {
     "data": {
      "text/plain": [
       "9223372036854775808"
      ]
     },
     "execution_count": 23,
     "metadata": {},
     "output_type": "execute_result"
    }
   ],
   "source": [
    "x *= 2"
   ]
  },
  {
   "cell_type": "markdown",
   "metadata": {},
   "source": [
    "## Iteration "
   ]
  },
  {
   "cell_type": "markdown",
   "metadata": {},
   "source": [
    "We now need to repeat such steps several times. Julia has `for` loops and `while` loops. As usual, we tend to use `for` loops when we know how many iterations we want, and `while` when we iterate until a certain condition is attained. "
   ]
  },
  {
   "cell_type": "markdown",
   "metadata": {},
   "source": [
    "### Ranges and arrays"
   ]
  },
  {
   "cell_type": "markdown",
   "metadata": {},
   "source": [
    "Let's start with a simple `for`. Blocks of code in Julia *always* end with `end`:"
   ]
  },
  {
   "cell_type": "code",
   "execution_count": 24,
   "metadata": {
    "collapsed": false
   },
   "outputs": [
    {
     "name": "stdout",
     "output_type": "stream",
     "text": [
      "1\n",
      "2\n",
      "3\n",
      "4\n",
      "5\n"
     ]
    }
   ],
   "source": [
    "for i in 1:5\n",
    "    println(i)  # print the value of i followed by a new line\n",
    "end"
   ]
  },
  {
   "cell_type": "markdown",
   "metadata": {},
   "source": [
    "Here, a variable `i` is introduced that is *local* to the loop, i.e. it exists only inside the loop:"
   ]
  },
  {
   "cell_type": "code",
   "execution_count": 25,
   "metadata": {
    "collapsed": false
   },
   "outputs": [
    {
     "ename": "LoadError",
     "evalue": "i not defined\nwhile loading In[25], in expression starting on line 1",
     "output_type": "error",
     "traceback": [
      "i not defined\nwhile loading In[25], in expression starting on line 1",
      ""
     ]
    }
   ],
   "source": [
    "i"
   ]
  },
  {
   "cell_type": "markdown",
   "metadata": {},
   "source": [
    "`i` takes each value in the *iterable collection* `1:5`. Let's ask Julia what this object `1:5` is:"
   ]
  },
  {
   "cell_type": "code",
   "execution_count": 26,
   "metadata": {
    "collapsed": false
   },
   "outputs": [
    {
     "data": {
      "text/plain": [
       "1:5"
      ]
     },
     "execution_count": 26,
     "metadata": {},
     "output_type": "execute_result"
    }
   ],
   "source": [
    "1:5"
   ]
  },
  {
   "cell_type": "markdown",
   "metadata": {},
   "source": [
    "As usual, Julia returns a value, but in this case it is (at first glance) apparently not very helpful. What type is this object?"
   ]
  },
  {
   "cell_type": "code",
   "execution_count": 27,
   "metadata": {
    "collapsed": false
   },
   "outputs": [
    {
     "data": {
      "text/plain": [
       "UnitRange{Int64} (constructor with 1 method)"
      ]
     },
     "execution_count": 27,
     "metadata": {},
     "output_type": "execute_result"
    }
   ],
   "source": [
    "typeof(1:5)"
   ]
  },
  {
   "cell_type": "markdown",
   "metadata": {},
   "source": [
    "We see that Julia has a special type (actually, several different types) to represent **ranges**, in which the elements are calculated each time a new element is required, rather than stored. We can see all the elements that will be produced using the `collect` function:"
   ]
  },
  {
   "cell_type": "code",
   "execution_count": 28,
   "metadata": {
    "collapsed": false
   },
   "outputs": [
    {
     "data": {
      "text/plain": [
       "5-element Array{Int64,1}:\n",
       " 1\n",
       " 2\n",
       " 3\n",
       " 4\n",
       " 5"
      ]
     },
     "execution_count": 28,
     "metadata": {},
     "output_type": "execute_result"
    }
   ],
   "source": [
    "v = collect(1:5)"
   ]
  },
  {
   "cell_type": "markdown",
   "metadata": {},
   "source": [
    "The result is an object of a new type, an `Array`, in this case one whose elements are integers and that is of *dimension* 1. Note that `1` is *not* the number of elements in the array, which is called `length`:"
   ]
  },
  {
   "cell_type": "code",
   "execution_count": 29,
   "metadata": {
    "collapsed": false
   },
   "outputs": [
    {
     "data": {
      "text/plain": [
       "5"
      ]
     },
     "execution_count": 29,
     "metadata": {},
     "output_type": "execute_result"
    }
   ],
   "source": [
    "length(v)"
   ]
  },
  {
   "cell_type": "markdown",
   "metadata": {},
   "source": [
    "`Array`s are also iterable, so we can iterate over an `Array` using a `for` loop. 1-dimensional arrays, also called `Vector`s, are constructed using square brackets:"
   ]
  },
  {
   "cell_type": "code",
   "execution_count": 30,
   "metadata": {
    "collapsed": false
   },
   "outputs": [
    {
     "data": {
      "text/plain": [
       "3-element Array{Int64,1}:\n",
       " 3\n",
       " 4\n",
       " 7"
      ]
     },
     "execution_count": 30,
     "metadata": {},
     "output_type": "execute_result"
    }
   ],
   "source": [
    "w = [3, 4, 7]"
   ]
  },
  {
   "cell_type": "code",
   "execution_count": 31,
   "metadata": {
    "collapsed": false
   },
   "outputs": [
    {
     "name": "stdout",
     "output_type": "stream",
     "text": [
      "6\n",
      "8\n",
      "14\n"
     ]
    }
   ],
   "source": [
    "for i in w\n",
    "    println(2*i)\n",
    "end"
   ]
  },
  {
   "cell_type": "markdown",
   "metadata": {},
   "source": [
    "## Implementing the Newton method "
   ]
  },
  {
   "cell_type": "markdown",
   "metadata": {},
   "source": [
    "We are now ready to implement the Newton method:"
   ]
  },
  {
   "cell_type": "code",
   "execution_count": 32,
   "metadata": {
    "collapsed": false
   },
   "outputs": [
    {
     "name": "stdout",
     "output_type": "stream",
     "text": [
      "1\t1.8333333333333333\n",
      "2\t1.4621212121212122\n",
      "3\t1.4149984298948028\n",
      "4\t1.4142137800471977\n",
      "5\t1.4142135623731118\n",
      "6\t1.414213562373095\n",
      "7\t1.4142135623730951\n",
      "8\t1.414213562373095\n",
      "9\t1.4142135623730951\n",
      "10\t1.414213562373095\n"
     ]
    }
   ],
   "source": [
    "x_0 = 3\n",
    "x = x_0\n",
    "\n",
    "for i in 1:10\n",
    "    x_new = x - f(x) / f′(x)\n",
    "    println(i, \"\\t\", x_new)\n",
    "    x = x_new\n",
    "end\n",
    "    "
   ]
  },
  {
   "cell_type": "markdown",
   "metadata": {},
   "source": [
    "In this case, we see that the method rapidly converges to one of the square roots of two. Which root it converges to depends on the initial condition:"
   ]
  },
  {
   "cell_type": "code",
   "execution_count": 33,
   "metadata": {
    "collapsed": false
   },
   "outputs": [
    {
     "name": "stdout",
     "output_type": "stream",
     "text": [
      "1\t-1.8333333333333333\n",
      "2\t-1.4621212121212122\n",
      "3\t-1.4149984298948028\n",
      "4\t-1.4142137800471977\n",
      "5\t-1.4142135623731118\n",
      "6\t-1.414213562373095\n",
      "7\t-1.4142135623730951\n",
      "8\t-1.414213562373095\n",
      "9\t-1.4142135623730951\n",
      "10\t-1.414213562373095\n"
     ]
    }
   ],
   "source": [
    "x_0 = -3\n",
    "x = x_0\n",
    "\n",
    "for i in 1:10\n",
    "    x_new = x - f(x) / f′(x)\n",
    "    println(i, \"\\t\", x_new)\n",
    "    x = x_new\n",
    "end"
   ]
  },
  {
   "cell_type": "markdown",
   "metadata": {},
   "source": [
    "The Newton method is, in fact, not guaranteed to converge to a root (although it always does so if started \"sufficiently close\" to a root, at a rate that is known). Furthermore, *which* root it converges to can depend sensitively on the initial condition. Let's calculate this for several initial conditions.\n",
    "\n",
    "First we create a set of initial conditions on the real line, say between -5 and 5. We now include a step size in the range:"
   ]
  },
  {
   "cell_type": "code",
   "execution_count": 34,
   "metadata": {
    "collapsed": false
   },
   "outputs": [
    {
     "data": {
      "text/plain": [
       "81-element Array{Float64,1}:\n",
       " -5.0  \n",
       " -4.875\n",
       " -4.75 \n",
       " -4.625\n",
       " -4.5  \n",
       " -4.375\n",
       " -4.25 \n",
       " -4.125\n",
       " -4.0  \n",
       " -3.875\n",
       " -3.75 \n",
       " -3.625\n",
       " -3.5  \n",
       "  ⋮    \n",
       "  3.625\n",
       "  3.75 \n",
       "  3.875\n",
       "  4.0  \n",
       "  4.125\n",
       "  4.25 \n",
       "  4.375\n",
       "  4.5  \n",
       "  4.625\n",
       "  4.75 \n",
       "  4.875\n",
       "  5.0  "
      ]
     },
     "execution_count": 34,
     "metadata": {},
     "output_type": "execute_result"
    }
   ],
   "source": [
    "initial_conditions = -5:0.125:5\n",
    "collect(initial_conditions)   # use tab completion for long variable names!"
   ]
  },
  {
   "cell_type": "code",
   "execution_count": 35,
   "metadata": {
    "collapsed": false
   },
   "outputs": [
    {
     "name": "stdout",
     "output_type": "stream",
     "text": [
      "collect"
     ]
    }
   ],
   "source": [
    "showall(collect)"
   ]
  },
  {
   "cell_type": "markdown",
   "metadata": {},
   "source": [
    "This range type is different:"
   ]
  },
  {
   "cell_type": "code",
   "execution_count": 36,
   "metadata": {
    "collapsed": false
   },
   "outputs": [
    {
     "data": {
      "text/plain": [
       "FloatRange{Float64} (constructor with 1 method)"
      ]
     },
     "execution_count": 36,
     "metadata": {},
     "output_type": "execute_result"
    }
   ],
   "source": [
    "typeof(-5:0.1:5)"
   ]
  },
  {
   "cell_type": "markdown",
   "metadata": {},
   "source": [
    "The array is also a new type: it is now an array of 64-bit floating-point numbers. We can also see that the `{...}` syntax thus gives the **parameters** of the `Array` type."
   ]
  },
  {
   "cell_type": "markdown",
   "metadata": {},
   "source": [
    "For each of these initial conditions, we will run the Newton algorithm for a certain number of steps and store the resulting value. We thus need a new array in which to store the results. One way of creating an array is using the `similar` function, which, by default, creates an array of the same type and same size, but with (currently) uninitialized values:"
   ]
  },
  {
   "cell_type": "code",
   "execution_count": 37,
   "metadata": {
    "collapsed": false,
    "scrolled": true
   },
   "outputs": [
    {
     "data": {
      "text/plain": [
       "81-element Array{Float64,1}:\n",
       " 5.33119e-317\n",
       " 5.33119e-317\n",
       " 5.33119e-317\n",
       " 5.33119e-317\n",
       " 5.33119e-317\n",
       " 5.33119e-317\n",
       " 5.33119e-317\n",
       " 5.33119e-317\n",
       " 5.33119e-317\n",
       " 5.33119e-317\n",
       " 5.33119e-317\n",
       " 5.33119e-317\n",
       " 5.33119e-317\n",
       " ⋮           \n",
       " 5.33119e-317\n",
       " 5.33119e-317\n",
       " 5.33119e-317\n",
       " 5.33119e-317\n",
       " 5.33119e-317\n",
       " 5.33119e-317\n",
       " 5.33119e-317\n",
       " 5.33119e-317\n",
       " 5.33119e-317\n",
       " 5.33119e-317\n",
       " 5.33119e-317\n",
       " 5.33119e-317"
      ]
     },
     "execution_count": 37,
     "metadata": {},
     "output_type": "execute_result"
    }
   ],
   "source": [
    "roots = similar(initial_conditions)"
   ]
  },
  {
   "cell_type": "markdown",
   "metadata": {},
   "source": [
    "Now we do the work:"
   ]
  },
  {
   "cell_type": "code",
   "execution_count": 38,
   "metadata": {
    "collapsed": false
   },
   "outputs": [
    {
     "data": {
      "text/plain": [
       "Enumerate{FloatRange{Float64}}(-5.0:0.125:5.0)"
      ]
     },
     "execution_count": 38,
     "metadata": {},
     "output_type": "execute_result"
    }
   ],
   "source": [
    "enumerate(initial_conditions)"
   ]
  },
  {
   "cell_type": "code",
   "execution_count": 39,
   "metadata": {
    "collapsed": true
   },
   "outputs": [],
   "source": [
    "for (j, x_0) in enumerate(initial_conditions)\n",
    "    x = x_0\n",
    "\n",
    "    for i in 1:100\n",
    "        x = x - f(x) / f′(x)\n",
    "    end\n",
    "    \n",
    "    roots[j] = x\n",
    "end"
   ]
  },
  {
   "cell_type": "markdown",
   "metadata": {},
   "source": [
    "Here, `enumerate` iterates over `initial_conditions` but returns not only the value at each step, but also a counter. `(j, x_0`) is called a **tuple** (an ordered pair):"
   ]
  },
  {
   "cell_type": "code",
   "execution_count": 40,
   "metadata": {
    "collapsed": false
   },
   "outputs": [
    {
     "name": "stdout",
     "output_type": "stream",
     "text": [
      "(j,x_0) => (1,2)\n",
      "(j,x_0) => (2,17)\n",
      "(j,x_0) => (3,-100)\n"
     ]
    }
   ],
   "source": [
    "for (j, x_0) in enumerate([2,17,-100])\n",
    "    @show (j,x_0)\n",
    "end"
   ]
  },
  {
   "cell_type": "code",
   "execution_count": 41,
   "metadata": {
    "collapsed": false
   },
   "outputs": [
    {
     "data": {
      "text/plain": [
       "(Int64,Int64)"
      ]
     },
     "execution_count": 41,
     "metadata": {},
     "output_type": "execute_result"
    }
   ],
   "source": [
    "t = (3, 4)\n",
    "typeof(t)"
   ]
  },
  {
   "cell_type": "markdown",
   "metadata": {},
   "source": [
    "NB: In Julia v0.4, tuples have been completely reworked, and the resulting type is now\n",
    "`Tuple{Int64,Int64}`."
   ]
  },
  {
   "cell_type": "code",
   "execution_count": 42,
   "metadata": {
    "collapsed": false
   },
   "outputs": [
    {
     "data": {
      "text/plain": [
       "81-element Array{Float64,1}:\n",
       " -1.41421\n",
       " -1.41421\n",
       " -1.41421\n",
       " -1.41421\n",
       " -1.41421\n",
       " -1.41421\n",
       " -1.41421\n",
       " -1.41421\n",
       " -1.41421\n",
       " -1.41421\n",
       " -1.41421\n",
       " -1.41421\n",
       " -1.41421\n",
       "  ⋮      \n",
       "  1.41421\n",
       "  1.41421\n",
       "  1.41421\n",
       "  1.41421\n",
       "  1.41421\n",
       "  1.41421\n",
       "  1.41421\n",
       "  1.41421\n",
       "  1.41421\n",
       "  1.41421\n",
       "  1.41421\n",
       "  1.41421"
      ]
     },
     "execution_count": 42,
     "metadata": {},
     "output_type": "execute_result"
    }
   ],
   "source": [
    "roots"
   ]
  },
  {
   "cell_type": "markdown",
   "metadata": {},
   "source": [
    "Julia does not show all of the contents of an array by default. We can see everything using `showall`:"
   ]
  },
  {
   "cell_type": "code",
   "execution_count": 43,
   "metadata": {
    "collapsed": false
   },
   "outputs": [
    {
     "name": "stdout",
     "output_type": "stream",
     "text": [
      "[-1.4142135623730951,-1.4142135623730951,-1.414213562373095,-1.414213562373095,-1.4142135623730951,-1.414213562373095,-1.4142135623730951,-1.4142135623730951,-1.4142135623730951,-1.414213562373095,-1.4142135623730951,-1.414213562373095,-1.4142135623730951,-1.414213562373095,-1.4142135623730951,-1.414213562373095,-1.414213562373095,-1.4142135623730951,-1.4142135623730951,-1.414213562373095,-1.4142135623730951,-1.4142135623730951,-1.414213562373095,-1.414213562373095,-1.414213562373095,-1.4142135623730951,-1.4142135623730951,-1.4142135623730951,-1.4142135623730951,-1.4142135623730951,-1.4142135623730951,-1.4142135623730951,-1.414213562373095,-1.4142135623730951,-1.414213562373095,-1.4142135623730951,-1.4142135623730951,-1.4142135623730951,-1.414213562373095,-1.4142135623730951,NaN,1.4142135623730951,1.414213562373095,1.4142135623730951,1.4142135623730951,1.4142135623730951,1.414213562373095,1.4142135623730951,1.414213562373095,1.4142135623730951,1.4142135623730951,1.4142135623730951,1.4142135623730951,1.4142135623730951,1.4142135623730951,1.4142135623730951,1.414213562373095,1.414213562373095,1.414213562373095,1.4142135623730951,1.4142135623730951,1.414213562373095,1.4142135623730951,1.4142135623730951,1.414213562373095,1.414213562373095,1.4142135623730951,1.414213562373095,1.4142135623730951,1.414213562373095,1.4142135623730951,1.414213562373095,1.4142135623730951,1.4142135623730951,1.4142135623730951,1.414213562373095,1.4142135623730951,1.414213562373095,1.414213562373095,1.4142135623730951,1.4142135623730951]"
     ]
    }
   ],
   "source": [
    "showall(roots)"
   ]
  },
  {
   "cell_type": "markdown",
   "metadata": {},
   "source": [
    "We see that, apart from the `NaN` value, the results are not very exciting. Let's work harder with more initial conditions. We can find out how long the calculation takes using `@time` by wrapping the code in a `begin...end` block:\n"
   ]
  },
  {
   "cell_type": "code",
   "execution_count": 44,
   "metadata": {
    "collapsed": false
   },
   "outputs": [
    {
     "name": "stdout",
     "output_type": "stream",
     "text": [
      "elapsed time: 4.65934054 seconds (1605016184 bytes allocated, 17.59% gc time)\n"
     ]
    }
   ],
   "source": [
    "@time begin \n",
    "    initial_conditions = -100:0.01:100\n",
    "    roots = similar(initial_conditions)\n",
    "\n",
    "    for (j, x_0) in enumerate(initial_conditions)\n",
    "        x = x_0\n",
    "\n",
    "        for i in 1:1000\n",
    "            x = x - f(x) / f′(x)\n",
    "        end\n",
    "\n",
    "        roots[j] = x\n",
    "    end\n",
    "end"
   ]
  },
  {
   "cell_type": "markdown",
   "metadata": {},
   "source": [
    "## Packages and visualisation "
   ]
  },
  {
   "cell_type": "markdown",
   "metadata": {},
   "source": [
    "There are now many values stored in the array, so it is hopeless to examine them:"
   ]
  },
  {
   "cell_type": "code",
   "execution_count": 45,
   "metadata": {
    "collapsed": false
   },
   "outputs": [
    {
     "data": {
      "text/plain": [
       "20001"
      ]
     },
     "execution_count": 45,
     "metadata": {},
     "output_type": "execute_result"
    }
   ],
   "source": [
    "length(roots)"
   ]
  },
  {
   "cell_type": "markdown",
   "metadata": {},
   "source": [
    "Instead, we turn to **visualisation**. There are several plotting **packages** in Julia: [`Gadfly`]() is a native Julia library that produces beautiful plots; [`PyPlot`] is a Julian interface to the well-known `matplotlib` Python library. "
   ]
  },
  {
   "cell_type": "markdown",
   "metadata": {},
   "source": [
    "Let's start with `PyPlot`. First we need to download the package. Julia provides a built-in package manager, called `Pkg`, that gracefully handles dependencies, etc. To tell Julia that we require the package, we do"
   ]
  },
  {
   "cell_type": "code",
   "execution_count": 49,
   "metadata": {
    "collapsed": false
   },
   "outputs": [
    {
     "name": "stderr",
     "output_type": "stream",
     "text": [
      "INFO: Cloning cache of ColorTypes from git://github.com/JuliaGraphics/ColorTypes.jl.git\n",
      "INFO: Cloning cache of Colors from git://github.com/JuliaGraphics/Colors.jl.git\n",
      "INFO: Cloning cache of Docile from git://github.com/MichaelHatherly/Docile.jl.git\n",
      "INFO: Cloning cache of FixedPointNumbers from git://github.com/JeffBezanson/FixedPointNumbers.jl.git\n",
      "INFO: Cloning cache of LaTeXStrings from git://github.com/stevengj/LaTeXStrings.jl.git\n",
      "INFO: Cloning cache of PyCall from git://github.com/stevengj/PyCall.jl.git\n",
      "INFO: Cloning cache of PyPlot from git://github.com/stevengj/PyPlot.jl.git\n",
      "INFO: Cloning cache of Reexport from git://github.com/simonster/Reexport.jl.git\n",
      "INFO: Installing ColorTypes v0.1.3\n",
      "INFO: Installing Colors v0.5.2\n",
      "INFO: Installing Docile v0.5.18\n",
      "INFO: Installing FixedPointNumbers v0.0.10\n",
      "INFO: Installing LaTeXStrings v0.1.4\n",
      "INFO: Installing PyCall v0.8.2\n",
      "INFO: Installing PyPlot v2.0.1\n",
      "INFO: Installing Reexport v0.0.3\n",
      "INFO: Package database updated\n",
      "INFO: METADATA is out-of-date — you may not have the latest version of PyPlot\n",
      "INFO: Use `Pkg.update()` to get the latest versions of your packages\n"
     ]
    }
   ],
   "source": [
    "Pkg.add(\"PyPlot\")"
   ]
  },
  {
   "cell_type": "code",
   "execution_count": 50,
   "metadata": {
    "collapsed": false
   },
   "outputs": [
    {
     "name": "stderr",
     "output_type": "stream",
     "text": [
      "INFO: Updating METADATA...\n",
      "INFO: Updating cache of IJulia...\n",
      "INFO: Updating cache of Compat...\n",
      "INFO: Computing changes...\n",
      "INFO: Upgrading ColorTypes: v0.1.3 => v0.1.4\n",
      "INFO: Upgrading Colors: v0.5.2 => v0.5.3\n",
      "INFO: Upgrading Compat: v0.6.0 => v0.7.0\n",
      "INFO: Upgrading IJulia: v0.2.5 => v1.0.3\n",
      "INFO: Removing REPLCompletions v0.0.3\n",
      "INFO: Building Nettle\n",
      "INFO: Building ZMQ\n",
      "INFO: Building IJulia\n",
      "Found jupyter kernelspec version 4.0.0 ... ok.\n",
      "Writing IJulia kernelspec to julia-0.3/kernel.json ...\n",
      "Installing julia kernelspec julia-0.3\n",
      "[InstallKernelSpec] Installed kernelspec julia-0.3 in /home/favio/.local/share/jupyter/kernels/julia-0.3\n"
     ]
    }
   ],
   "source": [
    "Pkg.update()"
   ]
  },
  {
   "cell_type": "code",
   "execution_count": 46,
   "metadata": {
    "collapsed": false
   },
   "outputs": [],
   "source": [
    "ENV[\"PYTHON\"] = \"/usr/bin/python3\"\n",
    "Pkg.build(\"PyCall\")"
   ]
  },
  {
   "cell_type": "markdown",
   "metadata": {},
   "source": [
    "This step is necessary only once. In each session where we need to use `PyPlot` we do"
   ]
  },
  {
   "cell_type": "code",
   "execution_count": 47,
   "metadata": {
    "collapsed": false
   },
   "outputs": [
    {
     "name": "stderr",
     "output_type": "stream",
     "text": [
      "INFO: Loading help data...\n"
     ]
    }
   ],
   "source": [
    "using PyPlot"
   ]
  },
  {
   "cell_type": "markdown",
   "metadata": {},
   "source": [
    "Note that this process of loading a package currently can take a considerable time. Work is in progress to reduce this loading time."
   ]
  },
  {
   "cell_type": "code",
   "execution_count": 51,
   "metadata": {
    "collapsed": false
   },
   "outputs": [
    {
     "data": {
      "image/png": "[encoded data removed]",
      "text/plain": [
       "Figure(PyObject <matplotlib.figure.Figure object at 0x7f35a1c84160>)"
      ]
     },
     "metadata": {},
     "output_type": "display_data"
    }
   ],
   "source": [
    "figure(figsize=(6,4))\n",
    "plot(initial_conditions, roots, \".\");"
   ]
  },
  {
   "cell_type": "markdown",
   "metadata": {},
   "source": [
    "## Performance 1 "
   ]
  },
  {
   "cell_type": "markdown",
   "metadata": {},
   "source": [
    "If we are used to the performance of C or Fortran, we might start to be unhappy with Julia's speed in this rather simple calculation. A close inspection of the output of the `@time` operation, however, gives us a very important clue: Julia apparently allocated over a gigabyte of memory to do a simple loop with some floating-point numbers! \n",
    "\n",
    "This is almost *always* a very strong signal that there is something very wrong in your Julia code! In our case, it is not at all clear what that could be. It turns out to be something very fundamental in Julia: \n",
    "\n",
    "[almost] **NEVER WORK WITH GLOBAL OBJECTS!**\n",
    "\n",
    "Due to technical details about the way that Julia works, it turns out that **GLOBALS ARE BAD**. What is the solution? **PUT EVERYTHING INTO A FUNCTION!** Let's try following this advice. We take *exactly* the same code and just plop it into a new function. For longer functions, Julia has an alternative syntax:"
   ]
  },
  {
   "cell_type": "code",
   "execution_count": 56,
   "metadata": {
    "collapsed": false
   },
   "outputs": [
    {
     "data": {
      "text/plain": [
       "do_roots (generic function with 1 method)"
      ]
     },
     "execution_count": 56,
     "metadata": {},
     "output_type": "execute_result"
    }
   ],
   "source": [
    "function do_roots()\n",
    "    initial_conditions = -100:0.01:100\n",
    "    roots = similar(initial_conditions)\n",
    "\n",
    "    for (j, x_0) in enumerate(initial_conditions)\n",
    "        x = x_0\n",
    "\n",
    "        for i in 1:1000\n",
    "            x = x - f(x) / f′(x)\n",
    "        end\n",
    "\n",
    "        roots[j] = x\n",
    "    end\n",
    "    \n",
    "    roots\n",
    "end"
   ]
  },
  {
   "cell_type": "markdown",
   "metadata": {},
   "source": [
    "Note the last line of the function. This will automatically *return* the value of the `roots` object as the output of the function. So we can call it like this:"
   ]
  },
  {
   "cell_type": "code",
   "execution_count": 53,
   "metadata": {
    "collapsed": false
   },
   "outputs": [
    {
     "data": {
      "text/plain": [
       "20001-element Array{Float64,1}:\n",
       " -1.41421\n",
       " -1.41421\n",
       " -1.41421\n",
       " -1.41421\n",
       " -1.41421\n",
       " -1.41421\n",
       " -1.41421\n",
       " -1.41421\n",
       " -1.41421\n",
       " -1.41421\n",
       " -1.41421\n",
       " -1.41421\n",
       " -1.41421\n",
       "  ⋮      \n",
       "  1.41421\n",
       "  1.41421\n",
       "  1.41421\n",
       "  1.41421\n",
       "  1.41421\n",
       "  1.41421\n",
       "  1.41421\n",
       "  1.41421\n",
       "  1.41421\n",
       "  1.41421\n",
       "  1.41421\n",
       "  1.41421"
      ]
     },
     "execution_count": 53,
     "metadata": {},
     "output_type": "execute_result"
    }
   ],
   "source": [
    "roots = do_roots()"
   ]
  },
  {
   "cell_type": "markdown",
   "metadata": {},
   "source": [
    "Now how long did it take?"
   ]
  },
  {
   "cell_type": "code",
   "execution_count": 57,
   "metadata": {
    "collapsed": false
   },
   "outputs": [
    {
     "name": "stdout",
     "output_type": "stream",
     "text": [
      "elapsed time: 0.250019048 seconds (423140 bytes allocated)\n",
      "elapsed time: 0.238577195 seconds (160312 bytes allocated)\n"
     ]
    }
   ],
   "source": [
    "# a semi-colon suppresses output\n",
    "@time roots = do_roots();\n",
    "@time roots = do_roots();  "
   ]
  },
  {
   "cell_type": "markdown",
   "metadata": {},
   "source": [
    "It allocates a million times less memory, and is 50 times faster! This is the first lesson about performance in Julia: *always* put everything in a function.\n",
    "\n",
    "Note that the first time we ran the function, it took longer. This is due to the fact that the first time a function is run with arguments of given types, the function is *compiled*. Subsequent runs with the same types of arguments reuse the previously-compiled code."
   ]
  },
  {
   "cell_type": "markdown",
   "metadata": {},
   "source": [
    "**Exercise**: Use a `while` loop with a suitable condition to improve the code for the Newton method."
   ]
  },
  {
   "cell_type": "markdown",
   "metadata": {},
   "source": [
    "## Generic functions and methods"
   ]
  },
  {
   "cell_type": "markdown",
   "metadata": {},
   "source": [
    "Our code currently is not very flexible. To make it more flexible, we would like to pass in arguments to the `do_roots` function. We can make a version which takes as arguments the functions `f` and `f'`, for example. Functions are \"first-class objects\" in Julia, so they can just be passed around by name.\n",
    "\n",
    "Let's redefine our function `do_roots` to accept these arguments:"
   ]
  },
  {
   "cell_type": "code",
   "execution_count": 58,
   "metadata": {
    "collapsed": false
   },
   "outputs": [
    {
     "data": {
      "text/plain": [
       "do_roots (generic function with 2 methods)"
      ]
     },
     "execution_count": 58,
     "metadata": {},
     "output_type": "execute_result"
    }
   ],
   "source": [
    "function do_roots(f, f′)\n",
    "    initial_conditions = -100:0.01:100\n",
    "    roots = similar(initial_conditions)\n",
    "\n",
    "    for (j, x_0) in enumerate(initial_conditions)\n",
    "        x = x_0\n",
    "\n",
    "        for i in 1:1000\n",
    "            x = x - f(x) / f′(x)\n",
    "        end\n",
    "\n",
    "        roots[j] = x\n",
    "    end\n",
    "    \n",
    "    roots\n",
    "end"
   ]
  },
  {
   "cell_type": "markdown",
   "metadata": {},
   "source": [
    "Note the output that Julia returns: \"generic function with 2 methods\". This is a sign that something interesting is happening. In fact, we have not \"redefined\" the function `do_roots`; rather, we have defined a *new version* of `do_roots`, which accepts a *different set of arguments*. (The collection *and types* of the arguments that a function accepts are called its **type signature**.)\n",
    "\n",
    "Indeed, the function `do_roots` now has *two different methods* or versions:"
   ]
  },
  {
   "cell_type": "code",
   "execution_count": 59,
   "metadata": {
    "collapsed": false
   },
   "outputs": [
    {
     "data": {
      "text/html": [
       "2 methods for generic function <b>do_roots</b>:<ul><li> do_roots() at In[56]:2<li> do_roots(f,f′) at In[58]:2</ul>"
      ],
      "text/plain": [
       "# 2 methods for generic function \"do_roots\":\n",
       "do_roots() at In[56]:2\n",
       "do_roots(f,f′) at In[58]:2"
      ]
     },
     "execution_count": 59,
     "metadata": {},
     "output_type": "execute_result"
    }
   ],
   "source": [
    "methods(do_roots)"
   ]
  },
  {
   "cell_type": "markdown",
   "metadata": {},
   "source": [
    "If we call `do_roots` with no arguments, the first version will be used; calling it with two arguments will call the second version. The process of choosing which \"version\" of a function to call is called *dispatch*. The fundamental fact in Julia is that (almost) all functions are such \"generic functions\" with multiple version, i.e. Julia is one of very few languages that use **multiple dispatch**. This turns out to be very natural for many applications in scientific computing."
   ]
  },
  {
   "cell_type": "markdown",
   "metadata": {},
   "source": [
    "The arguments `f` and `f'` in the second method of `do_roots` are names that are local to the function. We have functions of the same name defined globally, so we can pass those in:"
   ]
  },
  {
   "cell_type": "code",
   "execution_count": 61,
   "metadata": {
    "collapsed": false
   },
   "outputs": [
    {
     "name": "stdout",
     "output_type": "stream",
     "text": [
      "elapsed time: 3.595100787 seconds (1280856168 bytes allocated, 26.70% gc time)\n"
     ]
    }
   ],
   "source": [
    "@time do_roots(f, f′);"
   ]
  },
  {
   "cell_type": "markdown",
   "metadata": {},
   "source": [
    "You can specify the type of the variable"
   ]
  },
  {
   "cell_type": "code",
   "execution_count": 64,
   "metadata": {
    "collapsed": false
   },
   "outputs": [
    {
     "data": {
      "text/plain": [
       "h (generic function with 1 method)"
      ]
     },
     "execution_count": 64,
     "metadata": {},
     "output_type": "execute_result"
    }
   ],
   "source": [
    "h(x) = x^2"
   ]
  },
  {
   "cell_type": "code",
   "execution_count": 71,
   "metadata": {
    "collapsed": false
   },
   "outputs": [
    {
     "data": {
      "text/plain": [
       "9"
      ]
     },
     "execution_count": 71,
     "metadata": {},
     "output_type": "execute_result"
    }
   ],
   "source": [
    "h(3)"
   ]
  },
  {
   "cell_type": "code",
   "execution_count": 72,
   "metadata": {
    "collapsed": false
   },
   "outputs": [
    {
     "data": {
      "text/plain": [
       "12.25"
      ]
     },
     "execution_count": 72,
     "metadata": {},
     "output_type": "execute_result"
    }
   ],
   "source": [
    "h(3.5)"
   ]
  },
  {
   "cell_type": "code",
   "execution_count": 74,
   "metadata": {
    "collapsed": false
   },
   "outputs": [
    {
     "data": {
      "text/plain": [
       "h (generic function with 2 methods)"
      ]
     },
     "execution_count": 74,
     "metadata": {},
     "output_type": "execute_result"
    }
   ],
   "source": [
    "h(x::Float64) = x^3"
   ]
  },
  {
   "cell_type": "code",
   "execution_count": 75,
   "metadata": {
    "collapsed": false
   },
   "outputs": [
    {
     "data": {
      "text/html": [
       "2 methods for generic function <b>h</b>:<ul><li> h(x::<b>Float64</b>) at In[74]:1<li> h(x) at In[64]:1</ul>"
      ],
      "text/plain": [
       "# 2 methods for generic function \"h\":\n",
       "h(x::Float64) at In[74]:1\n",
       "h(x) at In[64]:1"
      ]
     },
     "execution_count": 75,
     "metadata": {},
     "output_type": "execute_result"
    }
   ],
   "source": [
    "methods(h)"
   ]
  },
  {
   "cell_type": "markdown",
   "metadata": {},
   "source": [
    "This is faster than the first version of `do_roots`, but much slower than the good version. It turns out that Julia currently *cannot optimize* (inline) functions passed in this way. This is something to bear in mind -- there is (currently) a trade-off between user convenience and speed."
   ]
  },
  {
   "cell_type": "markdown",
   "metadata": {},
   "source": [
    "Julia also has *anonymous* functions, which allow us to pass in a function that we define \"in the moment\", without giving it a name. For example, let's do the exercise with a more interesting function:"
   ]
  },
  {
   "cell_type": "code",
   "execution_count": 76,
   "metadata": {
    "collapsed": false
   },
   "outputs": [
    {
     "name": "stdout",
     "output_type": "stream",
     "text": [
      "elapsed time: 10.612329247 seconds (3520993400 bytes allocated, 25.35% gc time)\n"
     ]
    }
   ],
   "source": [
    "@time roots = do_roots(x->(x-1)*(x-2)*(x-3), x->3x^2-12x+11);"
   ]
  },
  {
   "cell_type": "markdown",
   "metadata": {},
   "source": [
    "We see that anonymous functions are currently very slow. However, there are workarounds, e.g. the `FastAnonymous` package."
   ]
  },
  {
   "cell_type": "code",
   "execution_count": 80,
   "metadata": {
    "collapsed": false
   },
   "outputs": [
    {
     "name": "stderr",
     "output_type": "stream",
     "text": [
      "INFO: Nothing to be done\n",
      "INFO: METADATA is out-of-date — you may not have the latest version of FastAnonymous\n",
      "INFO: Use `Pkg.update()` to get the latest versions of your packages\n"
     ]
    }
   ],
   "source": [
    "Pkg.add(\"FastAnonymous\")\n",
    "using FastAnonymous"
   ]
  },
  {
   "cell_type": "code",
   "execution_count": 81,
   "metadata": {
    "collapsed": false
   },
   "outputs": [
    {
     "name": "stdout",
     "output_type": "stream",
     "text": [
      "elapsed time: 3.693516944 seconds (1281205872 bytes allocated, 26.46% gc time)\n"
     ]
    }
   ],
   "source": [
    "f1 = @anon x->(x-1)*(x-2)*(x-3)\n",
    "f2 = @anon x->3x^2-12x+11\n",
    "@time roots = do_roots(f1,f2);"
   ]
  },
  {
   "cell_type": "markdown",
   "metadata": {},
   "source": [
    "Let's visualize the results for this function:"
   ]
  },
  {
   "cell_type": "code",
   "execution_count": 82,
   "metadata": {
    "collapsed": false
   },
   "outputs": [
    {
     "data": {
      "image/png": "[encoded data removed]",
      "text/plain": [
       "Figure(PyObject <matplotlib.figure.Figure object at 0x7f35c0a4c748>)"
      ]
     },
     "metadata": {},
     "output_type": "display_data"
    },
    {
     "data": {
      "text/plain": [
       "(-100.0,100.0)"
      ]
     },
     "execution_count": 82,
     "metadata": {},
     "output_type": "execute_result"
    }
   ],
   "source": [
    "figure(figsize=(6,4))\n",
    "plot(-100:0.01:100, roots)\n",
    "xlim()"
   ]
  },
  {
   "cell_type": "code",
   "execution_count": 83,
   "metadata": {
    "collapsed": false
   },
   "outputs": [
    {
     "data": {
      "image/png": "[encoded data removed]",
      "text/plain": [
       "Figure(PyObject <matplotlib.figure.Figure object at 0x7f35a1babf98>)"
      ]
     },
     "metadata": {},
     "output_type": "display_data"
    },
    {
     "data": {
      "text/plain": [
       "(1,3)"
      ]
     },
     "execution_count": 83,
     "metadata": {},
     "output_type": "execute_result"
    }
   ],
   "source": [
    "figure(figsize=(6,4))\n",
    "plot(-100:0.01:100, roots)\n",
    "xlim(1, 3)"
   ]
  },
  {
   "cell_type": "markdown",
   "metadata": {},
   "source": [
    "## Complexifying Newton "
   ]
  },
  {
   "cell_type": "markdown",
   "metadata": {},
   "source": [
    "The previous result is still pretty boring. It turns out that the Newton method gets interesting if we look for roots of functions of *complex* numbers. [If you are not familiar with complex numbers, you can think of them as pairs of real numbers that have certain mathematical operations defined.]"
   ]
  },
  {
   "cell_type": "markdown",
   "metadata": {},
   "source": [
    "Let's try to use the Newton method starting from initial conditions distributed in the complex plane, i.e. pairs $a + bi$, where $i = \\sqrt{-1}$. First of all let's see how Julia handles complex numbers:"
   ]
  },
  {
   "cell_type": "code",
   "execution_count": 84,
   "metadata": {
    "collapsed": false
   },
   "outputs": [
    {
     "ename": "LoadError",
     "evalue": "DomainError\nwhile loading In[84], in expression starting on line 1",
     "output_type": "error",
     "traceback": [
      "DomainError\nwhile loading In[84], in expression starting on line 1",
      "",
      " in sqrt at math.jl:133"
     ]
    }
   ],
   "source": [
    "sqrt(-1)"
   ]
  },
  {
   "cell_type": "markdown",
   "metadata": {},
   "source": [
    "Oh dear, that didn't work very well. It turns out that Julia is carefully designed to respect, when possible, the type of the input argument. Indeed, let's ask Julia what it thinks `sqrt` means:"
   ]
  },
  {
   "cell_type": "code",
   "execution_count": 85,
   "metadata": {
    "collapsed": false
   },
   "outputs": [
    {
     "data": {
      "text/plain": [
       "sqrt (generic function with 12 methods)"
      ]
     },
     "execution_count": 85,
     "metadata": {},
     "output_type": "execute_result"
    }
   ],
   "source": [
    "sqrt"
   ]
  },
  {
   "cell_type": "markdown",
   "metadata": {},
   "source": [
    "We see that `sqrt` is a generic function, with the following methods:"
   ]
  },
  {
   "cell_type": "code",
   "execution_count": 86,
   "metadata": {
    "collapsed": false
   },
   "outputs": [
    {
     "data": {
      "text/html": [
       "12 methods for generic function <b>sqrt</b>:<ul><li> sqrt(a::<b>Complex{Float16}</b>) at <a href=\"https://github.com/JuliaLang/julia/tree/483dbf5279efe29f94cf35d42de0ab0a673fb34e/base/float16.jl#L141\" target=\"_blank\">float16.jl:141</a><li> sqrt<i>{T<:FloatingPoint}</i>(z::<b>Complex{T<:FloatingPoint}</b>) at <a href=\"https://github.com/JuliaLang/julia/tree/483dbf5279efe29f94cf35d42de0ab0a673fb34e/base/complex.jl#L237\" target=\"_blank\">complex.jl:237</a><li> sqrt(z::<b>Complex{T<:Real}</b>) at <a href=\"https://github.com/JuliaLang/julia/tree/483dbf5279efe29f94cf35d42de0ab0a673fb34e/base/complex.jl#L261\" target=\"_blank\">complex.jl:261</a><li> sqrt(x::<b>Float64</b>) at <a href=\"https://github.com/JuliaLang/julia/tree/483dbf5279efe29f94cf35d42de0ab0a673fb34e/base/math.jl#L131\" target=\"_blank\">math.jl:131</a><li> sqrt(x::<b>Float32</b>) at <a href=\"https://github.com/JuliaLang/julia/tree/483dbf5279efe29f94cf35d42de0ab0a673fb34e/base/math.jl#L132\" target=\"_blank\">math.jl:132</a><li> sqrt(a::<b>Float16</b>) at <a href=\"https://github.com/JuliaLang/julia/tree/483dbf5279efe29f94cf35d42de0ab0a673fb34e/base/float16.jl#L140\" target=\"_blank\">float16.jl:140</a><li> sqrt(x::<b>BigFloat</b>) at <a href=\"https://github.com/JuliaLang/julia/tree/483dbf5279efe29f94cf35d42de0ab0a673fb34e/base/mpfr.jl#L285\" target=\"_blank\">mpfr.jl:285</a><li> sqrt(x::<b>BigInt</b>) at <a href=\"https://github.com/JuliaLang/julia/tree/483dbf5279efe29f94cf35d42de0ab0a673fb34e/base/mpfr.jl#L293\" target=\"_blank\">mpfr.jl:293</a><li> sqrt(x::<b>Real</b>) at <a href=\"https://github.com/JuliaLang/julia/tree/483dbf5279efe29f94cf35d42de0ab0a673fb34e/base/math.jl#L133\" target=\"_blank\">math.jl:133</a><li> sqrt<i>{T<:Number}</i>(::<b>AbstractArray{T<:Number,1}</b>) at <a href=\"https://github.com/JuliaLang/julia/tree/483dbf5279efe29f94cf35d42de0ab0a673fb34e/base/operators.jl#L359\" target=\"_blank\">operators.jl:359</a><li> sqrt<i>{T<:Number}</i>(::<b>AbstractArray{T<:Number,2}</b>) at <a href=\"https://github.com/JuliaLang/julia/tree/483dbf5279efe29f94cf35d42de0ab0a673fb34e/base/operators.jl#L360\" target=\"_blank\">operators.jl:360</a><li> sqrt<i>{T<:Number}</i>(::<b>AbstractArray{T<:Number,N}</b>) at <a href=\"https://github.com/JuliaLang/julia/tree/483dbf5279efe29f94cf35d42de0ab0a673fb34e/base/operators.jl#L362\" target=\"_blank\">operators.jl:362</a></ul>"
      ],
      "text/plain": [
       "# 12 methods for generic function \"sqrt\":\n",
       "sqrt(a::Complex{Float16}) at float16.jl:141\n",
       "sqrt{T<:FloatingPoint}(z::Complex{T<:FloatingPoint}) at complex.jl:237\n",
       "sqrt(z::Complex{T<:Real}) at complex.jl:261\n",
       "sqrt(x::Float64) at math.jl:131\n",
       "sqrt(x::Float32) at math.jl:132\n",
       "sqrt(a::Float16) at float16.jl:140\n",
       "sqrt(x::BigFloat) at mpfr.jl:285\n",
       "sqrt(x::BigInt) at mpfr.jl:293\n",
       "sqrt(x::Real) at math.jl:133\n",
       "sqrt{T<:Number}(::AbstractArray{T<:Number,1}) at operators.jl:359\n",
       "sqrt{T<:Number}(::AbstractArray{T<:Number,2}) at operators.jl:360\n",
       "sqrt{T<:Number}(::AbstractArray{T<:Number,N}) at operators.jl:362"
      ]
     },
     "execution_count": 86,
     "metadata": {},
     "output_type": "execute_result"
    }
   ],
   "source": [
    "methods(sqrt)"
   ]
  },
  {
   "cell_type": "markdown",
   "metadata": {},
   "source": [
    "Julia gives us a list of the available methods, together with links direct to the source code on GitHub (in IJulia) or locally (in Juno).\n",
    "\n",
    "`sqrt()` acting on a `Float64` returns a `Float64` when it can, or throws a `DomainError` when its argument is negative. To get square roots in the complex plane, we must *start* with a complex number."
   ]
  },
  {
   "cell_type": "markdown",
   "metadata": {},
   "source": [
    "The names of types in Julia start with capital letters, so let's try `Complex`:"
   ]
  },
  {
   "cell_type": "code",
   "execution_count": 87,
   "metadata": {
    "collapsed": false
   },
   "outputs": [
    {
     "data": {
      "text/plain": [
       "Complex{T<:Real} (constructor with 3 methods)"
      ]
     },
     "execution_count": 87,
     "metadata": {},
     "output_type": "execute_result"
    }
   ],
   "source": [
    "Complex"
   ]
  },
  {
   "cell_type": "markdown",
   "metadata": {},
   "source": [
    "As we will see later, types have functions with the same name that act as **constructors** to make objects of the type. Let's see the available functions with the name `Complex`. Note that output has changed rather a lot between Julia v0.3 and Julia v0.4:"
   ]
  },
  {
   "cell_type": "code",
   "execution_count": null,
   "metadata": {
    "collapsed": false
   },
   "outputs": [],
   "source": [
    "methods(Complex)"
   ]
  },
  {
   "cell_type": "markdown",
   "metadata": {},
   "source": [
    "Now let's try playing with `Complex`:"
   ]
  },
  {
   "cell_type": "code",
   "execution_count": 88,
   "metadata": {
    "collapsed": false
   },
   "outputs": [
    {
     "data": {
      "text/plain": [
       "3 + 0im"
      ]
     },
     "execution_count": 88,
     "metadata": {},
     "output_type": "execute_result"
    }
   ],
   "source": [
    "a = Complex(3)"
   ]
  },
  {
   "cell_type": "code",
   "execution_count": 91,
   "metadata": {
    "collapsed": false
   },
   "outputs": [
    {
     "data": {
      "text/plain": [
       "Complex{Int64} (constructor with 1 method)"
      ]
     },
     "execution_count": 91,
     "metadata": {},
     "output_type": "execute_result"
    }
   ],
   "source": [
    "typeof(a)"
   ]
  },
  {
   "cell_type": "code",
   "execution_count": 89,
   "metadata": {
    "collapsed": false
   },
   "outputs": [
    {
     "data": {
      "text/plain": [
       "3.0 + 4.5im"
      ]
     },
     "execution_count": 89,
     "metadata": {},
     "output_type": "execute_result"
    }
   ],
   "source": [
    "b = Complex(3, 4.5)"
   ]
  },
  {
   "cell_type": "code",
   "execution_count": 90,
   "metadata": {
    "collapsed": false
   },
   "outputs": [
    {
     "data": {
      "text/plain": [
       "Complex{Float64} (constructor with 1 method)"
      ]
     },
     "execution_count": 90,
     "metadata": {},
     "output_type": "execute_result"
    }
   ],
   "source": [
    "typeof(b)"
   ]
  },
  {
   "cell_type": "markdown",
   "metadata": {},
   "source": [
    "We see that `Complex` is also parametrised by the type of its real and imaginary parts.\n",
    "\n",
    "We can also make complex numbers directly using `im`:"
   ]
  },
  {
   "cell_type": "code",
   "execution_count": 92,
   "metadata": {
    "collapsed": false
   },
   "outputs": [
    {
     "data": {
      "text/plain": [
       "3.0 + 4.0im"
      ]
     },
     "execution_count": 92,
     "metadata": {},
     "output_type": "execute_result"
    }
   ],
   "source": [
    "3.0 + 4.0im"
   ]
  },
  {
   "cell_type": "markdown",
   "metadata": {},
   "source": [
    "(Here, 4.0im is multiplication of 4.0 by `im`, which represents $i$, the imaginary unit.)"
   ]
  },
  {
   "cell_type": "markdown",
   "metadata": {},
   "source": [
    "We can do complex arithmetic:"
   ]
  },
  {
   "cell_type": "code",
   "execution_count": 93,
   "metadata": {
    "collapsed": false
   },
   "outputs": [
    {
     "data": {
      "text/plain": [
       "9.0 + 13.5im"
      ]
     },
     "execution_count": 93,
     "metadata": {},
     "output_type": "execute_result"
    }
   ],
   "source": [
    "a * b"
   ]
  },
  {
   "cell_type": "markdown",
   "metadata": {},
   "source": [
    "What is happening here? Julia knows how to do `*` for complex numbers. Let's ask Julia what `*` is:"
   ]
  },
  {
   "cell_type": "code",
   "execution_count": 94,
   "metadata": {
    "collapsed": false
   },
   "outputs": [
    {
     "data": {
      "text/plain": [
       "* (generic function with 124 methods)"
      ]
     },
     "execution_count": 94,
     "metadata": {},
     "output_type": "execute_result"
    }
   ],
   "source": [
    "*"
   ]
  },
  {
   "cell_type": "markdown",
   "metadata": {},
   "source": [
    "So, mathematical operators *are generic functions too*! We can list all the ways to do `*`:"
   ]
  },
  {
   "cell_type": "code",
   "execution_count": 95,
   "metadata": {
    "collapsed": false
   },
   "outputs": [
    {
     "data": {
      "text/html": [
       "124 methods for generic function <b>*</b>:<ul><li> *(x::<b>Bool</b>,y::<b>Bool</b>) at <a href=\"https://github.com/JuliaLang/julia/tree/483dbf5279efe29f94cf35d42de0ab0a673fb34e/base/bool.jl#L41\" target=\"_blank\">bool.jl:41</a><li> *<i>{T<:Unsigned}</i>(x::<b>Bool</b>,y::<b>T<:Unsigned</b>) at <a href=\"https://github.com/JuliaLang/julia/tree/483dbf5279efe29f94cf35d42de0ab0a673fb34e/base/bool.jl#L56\" target=\"_blank\">bool.jl:56</a><li> *(x::<b>Bool</b>,z::<b>Complex{T<:Real}</b>) at <a href=\"https://github.com/JuliaLang/julia/tree/483dbf5279efe29f94cf35d42de0ab0a673fb34e/base/complex.jl#L116\" target=\"_blank\">complex.jl:116</a><li> *<i>{T<:Number}</i>(x::<b>Bool</b>,y::<b>T<:Number</b>) at <a href=\"https://github.com/JuliaLang/julia/tree/483dbf5279efe29f94cf35d42de0ab0a673fb34e/base/bool.jl#L52\" target=\"_blank\">bool.jl:52</a><li> *(z::<b>Complex{T<:Real}</b>,x::<b>Bool</b>) at <a href=\"https://github.com/JuliaLang/julia/tree/483dbf5279efe29f94cf35d42de0ab0a673fb34e/base/complex.jl#L117\" target=\"_blank\">complex.jl:117</a><li> *(y::<b>Number</b>,x::<b>Bool</b>) at <a href=\"https://github.com/JuliaLang/julia/tree/483dbf5279efe29f94cf35d42de0ab0a673fb34e/base/bool.jl#L58\" target=\"_blank\">bool.jl:58</a><li> *<i>{T,S}</i>(A::<b>Union(DenseArray{T,2},SubArray{T,2,A<:DenseArray{T,N},I<:(Union(Int64,Range{Int64})...,)})</b>,B::<b>Union(DenseArray{S,2},SubArray{S,2,A<:DenseArray{T,N},I<:(Union(Int64,Range{Int64})...,)})</b>) at <a href=\"https://github.com/JuliaLang/julia/tree/483dbf5279efe29f94cf35d42de0ab0a673fb34e/base/linalg/matmul.jl#L116\" target=\"_blank\">linalg/matmul.jl:116</a><li> *(A::<b>Union(Symmetric{T},Hermitian{T})</b>,B::<b>Union(Symmetric{T},Hermitian{T})</b>) at <a href=\"https://github.com/JuliaLang/julia/tree/483dbf5279efe29f94cf35d42de0ab0a673fb34e/base/linalg/symmetric.jl#L35\" target=\"_blank\">linalg/symmetric.jl:35</a><li> *(A::<b>Union(Symmetric{T},Hermitian{T})</b>,B::<b>Union(DenseArray{T,2},SubArray{T,2,A<:DenseArray{T,N},I<:(Union(Int64,Range{Int64})...,)})</b>) at <a href=\"https://github.com/JuliaLang/julia/tree/483dbf5279efe29f94cf35d42de0ab0a673fb34e/base/linalg/symmetric.jl#L36\" target=\"_blank\">linalg/symmetric.jl:36</a><li> *(A::<b>Union(DenseArray{T,2},SubArray{T,2,A<:DenseArray{T,N},I<:(Union(Int64,Range{Int64})...,)})</b>,B::<b>Union(Symmetric{T},Hermitian{T})</b>) at <a href=\"https://github.com/JuliaLang/julia/tree/483dbf5279efe29f94cf35d42de0ab0a673fb34e/base/linalg/symmetric.jl#L37\" target=\"_blank\">linalg/symmetric.jl:37</a><li> *<i>{T<:Union(Complex{Float64},Float64,Complex{Float32},Float32),S<:Union(DenseArray{T,2},SubArray{T,2,A<:DenseArray{T,N},I<:(Union(Int64,Range{Int64})...,)}),UpLo,IsUnit}</i>(A::<b>Triangular{T<:Union(Complex{Float64},Float64,Complex{Float32},Float32),S<:Union(DenseArray{T,2},SubArray{T,2,A<:DenseArray{T,N},I<:(Union(Int64,Range{Int64})...,)}),UpLo,IsUnit}</b>,B::<b>Triangular{T<:Union(Complex{Float64},Float64,Complex{Float32},Float32),S<:Union(DenseArray{T,2},SubArray{T,2,A<:DenseArray{T,N},I<:(Union(Int64,Range{Int64})...,)}),UpLo,IsUnit}</b>) at <a href=\"https://github.com/JuliaLang/julia/tree/483dbf5279efe29f94cf35d42de0ab0a673fb34e/base/linalg/triangular.jl#L23\" target=\"_blank\">linalg/triangular.jl:23</a><li> *(A::<b>Tridiagonal{T}</b>,B::<b>Triangular{T,S<:AbstractArray{T,2},UpLo,IsUnit}</b>) at <a href=\"https://github.com/JuliaLang/julia/tree/483dbf5279efe29f94cf35d42de0ab0a673fb34e/base/linalg/triangular.jl#L206\" target=\"_blank\">linalg/triangular.jl:206</a><li> *<i>{TA,TB,SA<:AbstractArray{T,2},SB<:AbstractArray{T,2},UpLoA,UpLoB,IsUnitA,IsUnitB}</i>(A::<b>Triangular{TA,SA<:AbstractArray{T,2},UpLoA,IsUnitA}</b>,B::<b>Triangular{TB,SB<:AbstractArray{T,2},UpLoB,IsUnitB}</b>) at <a href=\"https://github.com/JuliaLang/julia/tree/483dbf5279efe29f94cf35d42de0ab0a673fb34e/base/linalg/triangular.jl#L209\" target=\"_blank\">linalg/triangular.jl:209</a><li> *(Da::<b>Diagonal{T}</b>,Db::<b>Diagonal{T}</b>) at <a href=\"https://github.com/JuliaLang/julia/tree/483dbf5279efe29f94cf35d42de0ab0a673fb34e/base/linalg/diagonal.jl#L53\" target=\"_blank\">linalg/diagonal.jl:53</a><li> *(A::<b>Union(Bidiagonal{T},Triangular{T,S<:AbstractArray{T,2},UpLo,IsUnit},SymTridiagonal{T},Diagonal{T},Tridiagonal{T})</b>,B::<b>Union(Bidiagonal{T},Triangular{T,S<:AbstractArray{T,2},UpLo,IsUnit},SymTridiagonal{T},Diagonal{T},Tridiagonal{T})</b>) at <a href=\"https://github.com/JuliaLang/julia/tree/483dbf5279efe29f94cf35d42de0ab0a673fb34e/base/linalg/bidiag.jl#L114\" target=\"_blank\">linalg/bidiag.jl:114</a><li> *<i>{T<:Union(Int8,Int32,Int16)}</i>(x::<b>T<:Union(Int8,Int32,Int16)</b>,y::<b>T<:Union(Int8,Int32,Int16)</b>) at <a href=\"https://github.com/JuliaLang/julia/tree/483dbf5279efe29f94cf35d42de0ab0a673fb34e/base/int.jl#L18\" target=\"_blank\">int.jl:18</a><li> *<i>{T<:Union(Uint32,Uint16,Uint8)}</i>(x::<b>T<:Union(Uint32,Uint16,Uint8)</b>,y::<b>T<:Union(Uint32,Uint16,Uint8)</b>) at <a href=\"https://github.com/JuliaLang/julia/tree/483dbf5279efe29f94cf35d42de0ab0a673fb34e/base/int.jl#L22\" target=\"_blank\">int.jl:22</a><li> *(x::<b>Int64</b>,y::<b>Int64</b>) at <a href=\"https://github.com/JuliaLang/julia/tree/483dbf5279efe29f94cf35d42de0ab0a673fb34e/base/int.jl#L47\" target=\"_blank\">int.jl:47</a><li> *(x::<b>Uint64</b>,y::<b>Uint64</b>) at <a href=\"https://github.com/JuliaLang/julia/tree/483dbf5279efe29f94cf35d42de0ab0a673fb34e/base/int.jl#L48\" target=\"_blank\">int.jl:48</a><li> *(x::<b>Int128</b>,y::<b>Int128</b>) at <a href=\"https://github.com/JuliaLang/julia/tree/483dbf5279efe29f94cf35d42de0ab0a673fb34e/base/int.jl#L586\" target=\"_blank\">int.jl:586</a><li> *(x::<b>Uint128</b>,y::<b>Uint128</b>) at <a href=\"https://github.com/JuliaLang/julia/tree/483dbf5279efe29f94cf35d42de0ab0a673fb34e/base/int.jl#L587\" target=\"_blank\">int.jl:587</a><li> *(x::<b>Float32</b>,y::<b>Float32</b>) at <a href=\"https://github.com/JuliaLang/julia/tree/483dbf5279efe29f94cf35d42de0ab0a673fb34e/base/float.jl#L123\" target=\"_blank\">float.jl:123</a><li> *(x::<b>Float64</b>,y::<b>Float64</b>) at <a href=\"https://github.com/JuliaLang/julia/tree/483dbf5279efe29f94cf35d42de0ab0a673fb34e/base/float.jl#L124\" target=\"_blank\">float.jl:124</a><li> *(z::<b>Complex{T<:Real}</b>,w::<b>Complex{T<:Real}</b>) at <a href=\"https://github.com/JuliaLang/julia/tree/483dbf5279efe29f94cf35d42de0ab0a673fb34e/base/complex.jl#L112\" target=\"_blank\">complex.jl:112</a><li> *(x::<b>Real</b>,z::<b>Complex{T<:Real}</b>) at <a href=\"https://github.com/JuliaLang/julia/tree/483dbf5279efe29f94cf35d42de0ab0a673fb34e/base/complex.jl#L118\" target=\"_blank\">complex.jl:118</a><li> *(z::<b>Complex{T<:Real}</b>,x::<b>Real</b>) at <a href=\"https://github.com/JuliaLang/julia/tree/483dbf5279efe29f94cf35d42de0ab0a673fb34e/base/complex.jl#L119\" target=\"_blank\">complex.jl:119</a><li> *(x::<b>Rational{T<:Integer}</b>,y::<b>Rational{T<:Integer}</b>) at <a href=\"https://github.com/JuliaLang/julia/tree/483dbf5279efe29f94cf35d42de0ab0a673fb34e/base/rational.jl#L118\" target=\"_blank\">rational.jl:118</a><li> *(a::<b>Float16</b>,b::<b>Float16</b>) at <a href=\"https://github.com/JuliaLang/julia/tree/483dbf5279efe29f94cf35d42de0ab0a673fb34e/base/float16.jl#L132\" target=\"_blank\">float16.jl:132</a><li> *(x::<b>BigInt</b>,y::<b>BigInt</b>) at <a href=\"https://github.com/JuliaLang/julia/tree/483dbf5279efe29f94cf35d42de0ab0a673fb34e/base/gmp.jl#L195\" target=\"_blank\">gmp.jl:195</a><li> *(a::<b>BigInt</b>,b::<b>BigInt</b>,c::<b>BigInt</b>) at <a href=\"https://github.com/JuliaLang/julia/tree/483dbf5279efe29f94cf35d42de0ab0a673fb34e/base/gmp.jl#L218\" target=\"_blank\">gmp.jl:218</a><li> *(a::<b>BigInt</b>,b::<b>BigInt</b>,c::<b>BigInt</b>,d::<b>BigInt</b>) at <a href=\"https://github.com/JuliaLang/julia/tree/483dbf5279efe29f94cf35d42de0ab0a673fb34e/base/gmp.jl#L224\" target=\"_blank\">gmp.jl:224</a><li> *(a::<b>BigInt</b>,b::<b>BigInt</b>,c::<b>BigInt</b>,d::<b>BigInt</b>,e::<b>BigInt</b>) at <a href=\"https://github.com/JuliaLang/julia/tree/483dbf5279efe29f94cf35d42de0ab0a673fb34e/base/gmp.jl#L231\" target=\"_blank\">gmp.jl:231</a><li> *(x::<b>BigInt</b>,c::<b>Union(Uint32,Uint64,Uint16,Uint8)</b>) at <a href=\"https://github.com/JuliaLang/julia/tree/483dbf5279efe29f94cf35d42de0ab0a673fb34e/base/gmp.jl#L265\" target=\"_blank\">gmp.jl:265</a><li> *(c::<b>Union(Uint32,Uint64,Uint16,Uint8)</b>,x::<b>BigInt</b>) at <a href=\"https://github.com/JuliaLang/julia/tree/483dbf5279efe29f94cf35d42de0ab0a673fb34e/base/gmp.jl#L269\" target=\"_blank\">gmp.jl:269</a><li> *(x::<b>BigInt</b>,c::<b>Union(Int8,Int32,Int64,Int16)</b>) at <a href=\"https://github.com/JuliaLang/julia/tree/483dbf5279efe29f94cf35d42de0ab0a673fb34e/base/gmp.jl#L271\" target=\"_blank\">gmp.jl:271</a><li> *(c::<b>Union(Int8,Int32,Int64,Int16)</b>,x::<b>BigInt</b>) at <a href=\"https://github.com/JuliaLang/julia/tree/483dbf5279efe29f94cf35d42de0ab0a673fb34e/base/gmp.jl#L275\" target=\"_blank\">gmp.jl:275</a><li> *(x::<b>BigFloat</b>,y::<b>BigFloat</b>) at <a href=\"https://github.com/JuliaLang/julia/tree/483dbf5279efe29f94cf35d42de0ab0a673fb34e/base/mpfr.jl#L149\" target=\"_blank\">mpfr.jl:149</a><li> *(x::<b>BigFloat</b>,c::<b>Union(Uint32,Uint64,Uint16,Uint8)</b>) at <a href=\"https://github.com/JuliaLang/julia/tree/483dbf5279efe29f94cf35d42de0ab0a673fb34e/base/mpfr.jl#L156\" target=\"_blank\">mpfr.jl:156</a><li> *(c::<b>Union(Uint32,Uint64,Uint16,Uint8)</b>,x::<b>BigFloat</b>) at <a href=\"https://github.com/JuliaLang/julia/tree/483dbf5279efe29f94cf35d42de0ab0a673fb34e/base/mpfr.jl#L160\" target=\"_blank\">mpfr.jl:160</a><li> *(x::<b>BigFloat</b>,c::<b>Union(Int8,Int32,Int64,Int16)</b>) at <a href=\"https://github.com/JuliaLang/julia/tree/483dbf5279efe29f94cf35d42de0ab0a673fb34e/base/mpfr.jl#L164\" target=\"_blank\">mpfr.jl:164</a><li> *(c::<b>Union(Int8,Int32,Int64,Int16)</b>,x::<b>BigFloat</b>) at <a href=\"https://github.com/JuliaLang/julia/tree/483dbf5279efe29f94cf35d42de0ab0a673fb34e/base/mpfr.jl#L168\" target=\"_blank\">mpfr.jl:168</a><li> *(x::<b>BigFloat</b>,c::<b>Union(Float64,Float16,Float32)</b>) at <a href=\"https://github.com/JuliaLang/julia/tree/483dbf5279efe29f94cf35d42de0ab0a673fb34e/base/mpfr.jl#L172\" target=\"_blank\">mpfr.jl:172</a><li> *(c::<b>Union(Float64,Float16,Float32)</b>,x::<b>BigFloat</b>) at <a href=\"https://github.com/JuliaLang/julia/tree/483dbf5279efe29f94cf35d42de0ab0a673fb34e/base/mpfr.jl#L176\" target=\"_blank\">mpfr.jl:176</a><li> *(x::<b>BigFloat</b>,c::<b>BigInt</b>) at <a href=\"https://github.com/JuliaLang/julia/tree/483dbf5279efe29f94cf35d42de0ab0a673fb34e/base/mpfr.jl#L180\" target=\"_blank\">mpfr.jl:180</a><li> *(c::<b>BigInt</b>,x::<b>BigFloat</b>) at <a href=\"https://github.com/JuliaLang/julia/tree/483dbf5279efe29f94cf35d42de0ab0a673fb34e/base/mpfr.jl#L184\" target=\"_blank\">mpfr.jl:184</a><li> *(a::<b>BigFloat</b>,b::<b>BigFloat</b>,c::<b>BigFloat</b>) at <a href=\"https://github.com/JuliaLang/julia/tree/483dbf5279efe29f94cf35d42de0ab0a673fb34e/base/mpfr.jl#L255\" target=\"_blank\">mpfr.jl:255</a><li> *(a::<b>BigFloat</b>,b::<b>BigFloat</b>,c::<b>BigFloat</b>,d::<b>BigFloat</b>) at <a href=\"https://github.com/JuliaLang/julia/tree/483dbf5279efe29f94cf35d42de0ab0a673fb34e/base/mpfr.jl#L261\" target=\"_blank\">mpfr.jl:261</a><li> *(a::<b>BigFloat</b>,b::<b>BigFloat</b>,c::<b>BigFloat</b>,d::<b>BigFloat</b>,e::<b>BigFloat</b>) at <a href=\"https://github.com/JuliaLang/julia/tree/483dbf5279efe29f94cf35d42de0ab0a673fb34e/base/mpfr.jl#L268\" target=\"_blank\">mpfr.jl:268</a><li> *(x::<b>MathConst{sym}</b>,y::<b>MathConst{sym}</b>) at <a href=\"https://github.com/JuliaLang/julia/tree/483dbf5279efe29f94cf35d42de0ab0a673fb34e/base/constants.jl#L23\" target=\"_blank\">constants.jl:23</a><li> *<i>{f}</i>(x::<b>Fixed32{f}</b>,y::<b>Fixed32{f}</b>) at <a href=\"https://github.com/JeffBezanson/FixedPointNumbers.jl/tree/d2e015cc1660b7db982737f41ff728980f416f41/src/fixed32.jl#L36\" target=\"_blank\">/home/favio/.julia/v0.3/FixedPointNumbers/src/fixed32.jl:36</a><li> *<i>{T,f}</i>(x::<b>UfixedBase{T,f}</b>,y::<b>UfixedBase{T,f}</b>) at <a href=\"https://github.com/JeffBezanson/FixedPointNumbers.jl/tree/d2e015cc1660b7db982737f41ff728980f416f41/src/ufixed.jl#L87\" target=\"_blank\">/home/favio/.julia/v0.3/FixedPointNumbers/src/ufixed.jl:87</a><li> *(c::<b>Number</b>,a::<b>Union(LMS{T<:FloatingPoint},XYZ{T<:FloatingPoint})</b>) at <a href=\"https://github.com/JuliaGraphics/Colors.jl/tree/305b85d2a458fd6f00f450c69677fa96509ea74a/src/algorithms.jl#L7\" target=\"_blank\">/home/favio/.julia/v0.3/Colors/src/algorithms.jl:7</a><li> *<i>{T<:Number}</i>(x::<b>T<:Number</b>,y::<b>T<:Number</b>) at <a href=\"https://github.com/JuliaLang/julia/tree/483dbf5279efe29f94cf35d42de0ab0a673fb34e/base/promotion.jl#L189\" target=\"_blank\">promotion.jl:189</a><li> *(x::<b>Number</b>,y::<b>Number</b>) at <a href=\"https://github.com/JuliaLang/julia/tree/483dbf5279efe29f94cf35d42de0ab0a673fb34e/base/promotion.jl#L159\" target=\"_blank\">promotion.jl:159</a><li> *<i>{T<:Number}</i>(x::<b>T<:Number</b>,D::<b>Diagonal{T}</b>) at <a href=\"https://github.com/JuliaLang/julia/tree/483dbf5279efe29f94cf35d42de0ab0a673fb34e/base/linalg/diagonal.jl#L50\" target=\"_blank\">linalg/diagonal.jl:50</a><li> *(s::<b>Real</b>,p::<b>Vec2</b>) at <a href=\"https://github.com/JuliaLang/julia/tree/483dbf5279efe29f94cf35d42de0ab0a673fb34e/base/graphics.jl#L64\" target=\"_blank\">graphics.jl:64</a><li> *(s::<b>Real</b>,bb::<b>BoundingBox</b>) at <a href=\"https://github.com/JuliaLang/julia/tree/483dbf5279efe29f94cf35d42de0ab0a673fb34e/base/graphics.jl#L151\" target=\"_blank\">graphics.jl:151</a><li> *<i>{P<:Period}</i>(x::<b>Real</b>,y::<b>P<:Period</b>) at <a href=\"https://github.com/quinnj/Dates.jl/tree/333857d4166346beac830592dd0f407d6a44b6c6/src/dates/periods.jl#L58\" target=\"_blank\">/home/favio/.julia/v0.3/Dates/src/dates/periods.jl:58</a><li> *<i>{T,f}</i>(n::<b>Integer</b>,::<b>UfixedConstructor{T,f}</b>) at <a href=\"https://github.com/JeffBezanson/FixedPointNumbers.jl/tree/d2e015cc1660b7db982737f41ff728980f416f41/src/ufixed.jl#L30\" target=\"_blank\">/home/favio/.julia/v0.3/FixedPointNumbers/src/ufixed.jl:30</a><li> *(x::<b>Number</b>) at <a href=\"https://github.com/JuliaLang/julia/tree/483dbf5279efe29f94cf35d42de0ab0a673fb34e/base/operators.jl#L72\" target=\"_blank\">operators.jl:72</a><li> *<i>{T<:Union(Complex{Float64},Float64,Complex{Float32},Float32),S}</i>(A::<b>Union(SubArray{T<:Union(Complex{Float64},Float64,Complex{Float32},Float32),2,A<:DenseArray{T,N},I<:(Union(Int64,Range{Int64})...,)},DenseArray{T<:Union(Complex{Float64},Float64,Complex{Float32},Float32),2})</b>,x::<b>Union(DenseArray{S,1},SubArray{S,1,A<:DenseArray{T,N},I<:(Union(Int64,Range{Int64})...,)})</b>) at <a href=\"https://github.com/JuliaLang/julia/tree/483dbf5279efe29f94cf35d42de0ab0a673fb34e/base/linalg/matmul.jl#L67\" target=\"_blank\">linalg/matmul.jl:67</a><li> *(A::<b>SymTridiagonal{T}</b>,B::<b>Number</b>) at <a href=\"https://github.com/JuliaLang/julia/tree/483dbf5279efe29f94cf35d42de0ab0a673fb34e/base/linalg/tridiag.jl#L59\" target=\"_blank\">linalg/tridiag.jl:59</a><li> *(A::<b>Tridiagonal{T}</b>,B::<b>Number</b>) at <a href=\"https://github.com/JuliaLang/julia/tree/483dbf5279efe29f94cf35d42de0ab0a673fb34e/base/linalg/tridiag.jl#L249\" target=\"_blank\">linalg/tridiag.jl:249</a><li> *<i>{T<:Union(Complex{Float64},Float64,Complex{Float32},Float32),S<:Union(DenseArray{T,2},SubArray{T,2,A<:DenseArray{T,N},I<:(Union(Int64,Range{Int64})...,)}),UpLo,IsUnit}</i>(A::<b>Triangular{T<:Union(Complex{Float64},Float64,Complex{Float32},Float32),S<:Union(DenseArray{T,2},SubArray{T,2,A<:DenseArray{T,N},I<:(Union(Int64,Range{Int64})...,)}),UpLo,IsUnit}</b>,B::<b>Union(DenseArray{T,1},DenseArray{T,2},SubArray{T,1,A<:DenseArray{T,N},I<:(Union(Int64,Range{Int64})...,)},SubArray{T,2,A<:DenseArray{T,N},I<:(Union(Int64,Range{Int64})...,)})</b>) at <a href=\"https://github.com/JuliaLang/julia/tree/483dbf5279efe29f94cf35d42de0ab0a673fb34e/base/linalg/triangular.jl#L24\" target=\"_blank\">linalg/triangular.jl:24</a><li> *<i>{T,S,UpLo,IsUnit}</i>(A::<b>Triangular{T,S,UpLo,IsUnit}</b>,x::<b>Number</b>) at <a href=\"https://github.com/JuliaLang/julia/tree/483dbf5279efe29f94cf35d42de0ab0a673fb34e/base/linalg/triangular.jl#L157\" target=\"_blank\">linalg/triangular.jl:157</a><li> *<i>{TvA,TiA}</i>(X::<b>Triangular{T,S<:AbstractArray{T,2},UpLo,IsUnit}</b>,A::<b>SparseMatrixCSC{TvA,TiA}</b>) at <a href=\"https://github.com/JuliaLang/julia/tree/483dbf5279efe29f94cf35d42de0ab0a673fb34e/base/linalg/sparse.jl#L129\" target=\"_blank\">linalg/sparse.jl:129</a><li> *<i>{T,S<:AbstractArray{T,2},UpLo,IsUnit}</i>(A::<b>Triangular{T,S<:AbstractArray{T,2},UpLo,IsUnit}</b>,B::<b>Union(AbstractArray{T,2},AbstractArray{T,1})</b>) at <a href=\"https://github.com/JuliaLang/julia/tree/483dbf5279efe29f94cf35d42de0ab0a673fb34e/base/linalg/triangular.jl#L210\" target=\"_blank\">linalg/triangular.jl:210</a><li> *<i>{TA,Tb}</i>(A::<b>Union(QRPackedQ{TA},QRCompactWYQ{TA})</b>,b::<b>Union(DenseArray{Tb,1},SubArray{Tb,1,A<:DenseArray{T,N},I<:(Union(Int64,Range{Int64})...,)})</b>) at <a href=\"https://github.com/JuliaLang/julia/tree/483dbf5279efe29f94cf35d42de0ab0a673fb34e/base/linalg/factorization.jl#L277\" target=\"_blank\">linalg/factorization.jl:277</a><li> *<i>{TA,TB}</i>(A::<b>Union(QRPackedQ{TA},QRCompactWYQ{TA})</b>,B::<b>Union(DenseArray{TB,2},SubArray{TB,2,A<:DenseArray{T,N},I<:(Union(Int64,Range{Int64})...,)})</b>) at <a href=\"https://github.com/JuliaLang/julia/tree/483dbf5279efe29f94cf35d42de0ab0a673fb34e/base/linalg/factorization.jl#L283\" target=\"_blank\">linalg/factorization.jl:283</a><li> *<i>{TA,TQ,N}</i>(A::<b>Union(SubArray{TA,N,A<:DenseArray{T,N},I<:(Union(Int64,Range{Int64})...,)},DenseArray{TA,N})</b>,Q::<b>Union(QRCompactWYQ{TQ},QRPackedQ{TQ})</b>) at <a href=\"https://github.com/JuliaLang/julia/tree/483dbf5279efe29f94cf35d42de0ab0a673fb34e/base/linalg/factorization.jl#L345\" target=\"_blank\">linalg/factorization.jl:345</a><li> *(W::<b>Woodbury{T}</b>,B::<b>Union(DenseArray{T,1},DenseArray{T,2},SubArray{T,1,A<:DenseArray{T,N},I<:(Union(Int64,Range{Int64})...,)},SubArray{T,2,A<:DenseArray{T,N},I<:(Union(Int64,Range{Int64})...,)})</b>) at <a href=\"https://github.com/JuliaLang/julia/tree/483dbf5279efe29f94cf35d42de0ab0a673fb34e/base/linalg/woodbury.jl#L70\" target=\"_blank\">linalg/woodbury.jl:70</a><li> *<i>{T<:Number}</i>(D::<b>Diagonal{T}</b>,x::<b>T<:Number</b>) at <a href=\"https://github.com/JuliaLang/julia/tree/483dbf5279efe29f94cf35d42de0ab0a673fb34e/base/linalg/diagonal.jl#L51\" target=\"_blank\">linalg/diagonal.jl:51</a><li> *(D::<b>Diagonal{T}</b>,V::<b>Array{T,1}</b>) at <a href=\"https://github.com/JuliaLang/julia/tree/483dbf5279efe29f94cf35d42de0ab0a673fb34e/base/linalg/diagonal.jl#L54\" target=\"_blank\">linalg/diagonal.jl:54</a><li> *(A::<b>Array{T,2}</b>,D::<b>Diagonal{T}</b>) at <a href=\"https://github.com/JuliaLang/julia/tree/483dbf5279efe29f94cf35d42de0ab0a673fb34e/base/linalg/diagonal.jl#L55\" target=\"_blank\">linalg/diagonal.jl:55</a><li> *(D::<b>Diagonal{T}</b>,A::<b>Array{T,2}</b>) at <a href=\"https://github.com/JuliaLang/julia/tree/483dbf5279efe29f94cf35d42de0ab0a673fb34e/base/linalg/diagonal.jl#L56\" target=\"_blank\">linalg/diagonal.jl:56</a><li> *(A::<b>Bidiagonal{T}</b>,B::<b>Number</b>) at <a href=\"https://github.com/JuliaLang/julia/tree/483dbf5279efe29f94cf35d42de0ab0a673fb34e/base/linalg/bidiag.jl#L108\" target=\"_blank\">linalg/bidiag.jl:108</a><li> *<i>{T}</i>(A::<b>Bidiagonal{T}</b>,B::<b>AbstractArray{T,1}</b>) at <a href=\"https://github.com/JuliaLang/julia/tree/483dbf5279efe29f94cf35d42de0ab0a673fb34e/base/linalg/bidiag.jl#L119\" target=\"_blank\">linalg/bidiag.jl:119</a><li> *(B::<b>BitArray{2}</b>,J::<b>UniformScaling{T<:Number}</b>) at <a href=\"https://github.com/JuliaLang/julia/tree/483dbf5279efe29f94cf35d42de0ab0a673fb34e/base/linalg/uniformscaling.jl#L68\" target=\"_blank\">linalg/uniformscaling.jl:68</a><li> *(S::<b>SparseMatrixCSC{Tv,Ti<:Integer}</b>,J::<b>UniformScaling{T<:Number}</b>) at <a href=\"https://github.com/JuliaLang/julia/tree/483dbf5279efe29f94cf35d42de0ab0a673fb34e/base/linalg/uniformscaling.jl#L70\" target=\"_blank\">linalg/uniformscaling.jl:70</a><li> *<i>{T}</i>(G1::<b>Givens{T}</b>,G2::<b>Givens{T}</b>) at <a href=\"https://github.com/JuliaLang/julia/tree/483dbf5279efe29f94cf35d42de0ab0a673fb34e/base/linalg/givens.jl#L197\" target=\"_blank\">linalg/givens.jl:197</a><li> *(G::<b>Givens{T}</b>,B::<b>BitArray{2}</b>) at <a href=\"https://github.com/JuliaLang/julia/tree/483dbf5279efe29f94cf35d42de0ab0a673fb34e/base/linalg/givens.jl#L198\" target=\"_blank\">linalg/givens.jl:198</a><li> *<i>{TBf,TBi}</i>(G::<b>Givens{T}</b>,B::<b>SparseMatrixCSC{TBf,TBi}</b>) at <a href=\"https://github.com/JuliaLang/julia/tree/483dbf5279efe29f94cf35d42de0ab0a673fb34e/base/linalg/givens.jl#L199\" target=\"_blank\">linalg/givens.jl:199</a><li> *(R::<b>Union(Givens{T},Rotation{T})</b>,A::<b>AbstractArray{T,2}</b>) at <a href=\"https://github.com/JuliaLang/julia/tree/483dbf5279efe29f94cf35d42de0ab0a673fb34e/base/linalg/givens.jl#L200\" target=\"_blank\">linalg/givens.jl:200</a><li> *<i>{Tv,Ti}</i>(A::<b>SparseMatrixCSC{Tv,Ti}</b>,B::<b>SparseMatrixCSC{Tv,Ti}</b>) at <a href=\"https://github.com/JuliaLang/julia/tree/483dbf5279efe29f94cf35d42de0ab0a673fb34e/base/linalg/sparse.jl#L143\" target=\"_blank\">linalg/sparse.jl:143</a><li> *<i>{TvA,TiA,TvB,TiB}</i>(A::<b>SparseMatrixCSC{TvA,TiA}</b>,B::<b>SparseMatrixCSC{TvB,TiB}</b>) at <a href=\"https://github.com/JuliaLang/julia/tree/483dbf5279efe29f94cf35d42de0ab0a673fb34e/base/linalg/sparse.jl#L4\" target=\"_blank\">linalg/sparse.jl:4</a><li> *<i>{TvA,TiA}</i>(A::<b>SparseMatrixCSC{TvA,TiA}</b>,X::<b>BitArray{1}</b>) at <a href=\"https://github.com/JuliaLang/julia/tree/483dbf5279efe29f94cf35d42de0ab0a673fb34e/base/linalg/sparse.jl#L11\" target=\"_blank\">linalg/sparse.jl:11</a><li> *<i>{TvA,TiA}</i>(A::<b>SparseMatrixCSC{TvA,TiA}</b>,X::<b>BitArray{2}</b>) at <a href=\"https://github.com/JuliaLang/julia/tree/483dbf5279efe29f94cf35d42de0ab0a673fb34e/base/linalg/sparse.jl#L109\" target=\"_blank\">linalg/sparse.jl:109</a><li> *<i>{TA,S,Tx}</i>(A::<b>SparseMatrixCSC{TA,S}</b>,x::<b>AbstractArray{Tx,1}</b>) at <a href=\"https://github.com/JuliaLang/julia/tree/483dbf5279efe29f94cf35d42de0ab0a673fb34e/base/linalg/sparse.jl#L32\" target=\"_blank\">linalg/sparse.jl:32</a><li> *(X::<b>BitArray{1}</b>,A::<b>SparseMatrixCSC{Tv,Ti<:Integer}</b>) at <a href=\"https://github.com/JuliaLang/julia/tree/483dbf5279efe29f94cf35d42de0ab0a673fb34e/base/linalg/sparse.jl#L95\" target=\"_blank\">linalg/sparse.jl:95</a><li> *<i>{TvA,TiA,TX}</i>(A::<b>SparseMatrixCSC{TvA,TiA}</b>,X::<b>AbstractArray{TX,2}</b>) at <a href=\"https://github.com/JuliaLang/julia/tree/483dbf5279efe29f94cf35d42de0ab0a673fb34e/base/linalg/sparse.jl#L111\" target=\"_blank\">linalg/sparse.jl:111</a><li> *<i>{TvA,TiA}</i>(X::<b>BitArray{2}</b>,A::<b>SparseMatrixCSC{TvA,TiA}</b>) at <a href=\"https://github.com/JuliaLang/julia/tree/483dbf5279efe29f94cf35d42de0ab0a673fb34e/base/linalg/sparse.jl#L126\" target=\"_blank\">linalg/sparse.jl:126</a><li> *<i>{TX,TvA,TiA}</i>(X::<b>Tridiagonal{TX}</b>,A::<b>SparseMatrixCSC{TvA,TiA}</b>) at <a href=\"https://github.com/JuliaLang/julia/tree/483dbf5279efe29f94cf35d42de0ab0a673fb34e/base/linalg/sparse.jl#L128\" target=\"_blank\">linalg/sparse.jl:128</a><li> *<i>{T<:Number}</i>(x::<b>AbstractArray{T<:Number,N}</b>) at <a href=\"https://github.com/JuliaLang/julia/tree/483dbf5279efe29f94cf35d42de0ab0a673fb34e/base/abstractarray.jl#L363\" target=\"_blank\">abstractarray.jl:363</a><li> *(B::<b>Number</b>,A::<b>SymTridiagonal{T}</b>) at <a href=\"https://github.com/JuliaLang/julia/tree/483dbf5279efe29f94cf35d42de0ab0a673fb34e/base/linalg/tridiag.jl#L60\" target=\"_blank\">linalg/tridiag.jl:60</a><li> *(B::<b>Number</b>,A::<b>Tridiagonal{T}</b>) at <a href=\"https://github.com/JuliaLang/julia/tree/483dbf5279efe29f94cf35d42de0ab0a673fb34e/base/linalg/tridiag.jl#L250\" target=\"_blank\">linalg/tridiag.jl:250</a><li> *<i>{T,S,UpLo,IsUnit}</i>(x::<b>Number</b>,A::<b>Triangular{T,S,UpLo,IsUnit}</b>) at <a href=\"https://github.com/JuliaLang/julia/tree/483dbf5279efe29f94cf35d42de0ab0a673fb34e/base/linalg/triangular.jl#L167\" target=\"_blank\">linalg/triangular.jl:167</a><li> *(B::<b>Number</b>,A::<b>Bidiagonal{T}</b>) at <a href=\"https://github.com/JuliaLang/julia/tree/483dbf5279efe29f94cf35d42de0ab0a673fb34e/base/linalg/bidiag.jl#L109\" target=\"_blank\">linalg/bidiag.jl:109</a><li> *(A::<b>Number</b>,B::<b>AbstractArray{T,N}</b>) at <a href=\"https://github.com/JuliaLang/julia/tree/483dbf5279efe29f94cf35d42de0ab0a673fb34e/base/abstractarray.jl#L367\" target=\"_blank\">abstractarray.jl:367</a><li> *(A::<b>AbstractArray{T,N}</b>,B::<b>Number</b>) at <a href=\"https://github.com/JuliaLang/julia/tree/483dbf5279efe29f94cf35d42de0ab0a673fb34e/base/abstractarray.jl#L368\" target=\"_blank\">abstractarray.jl:368</a><li> *(s::<b>String...</b>) at <a href=\"https://github.com/JuliaLang/julia/tree/483dbf5279efe29f94cf35d42de0ab0a673fb34e/base/string.jl#L76\" target=\"_blank\">string.jl:76</a><li> *<i>{T,S<:AbstractArray{T,2},UpLo,IsUnit}</i>(A::<b>AbstractArray{T,2}</b>,B::<b>Triangular{T,S<:AbstractArray{T,2},UpLo,IsUnit}</b>) at <a href=\"https://github.com/JuliaLang/julia/tree/483dbf5279efe29f94cf35d42de0ab0a673fb34e/base/linalg/triangular.jl#L211\" target=\"_blank\">linalg/triangular.jl:211</a><li> *<i>{TX,TvA,TiA}</i>(X::<b>AbstractArray{TX,2}</b>,A::<b>SparseMatrixCSC{TvA,TiA}</b>) at <a href=\"https://github.com/JuliaLang/julia/tree/483dbf5279efe29f94cf35d42de0ab0a673fb34e/base/linalg/sparse.jl#L131\" target=\"_blank\">linalg/sparse.jl:131</a><li> *<i>{T,S}</i>(A::<b>AbstractArray{T,2}</b>,x::<b>AbstractArray{S,1}</b>) at <a href=\"https://github.com/JuliaLang/julia/tree/483dbf5279efe29f94cf35d42de0ab0a673fb34e/base/linalg/matmul.jl#L71\" target=\"_blank\">linalg/matmul.jl:71</a><li> *<i>{T1,T2}</i>(X::<b>AbstractArray{T1,1}</b>,A::<b>SparseMatrixCSC{T2,Ti<:Integer}</b>) at <a href=\"https://github.com/JuliaLang/julia/tree/483dbf5279efe29f94cf35d42de0ab0a673fb34e/base/linalg/sparse.jl#L99\" target=\"_blank\">linalg/sparse.jl:99</a><li> *(A::<b>AbstractArray{T,1}</b>,B::<b>AbstractArray{T,2}</b>) at <a href=\"https://github.com/JuliaLang/julia/tree/483dbf5279efe29f94cf35d42de0ab0a673fb34e/base/linalg/matmul.jl#L74\" target=\"_blank\">linalg/matmul.jl:74</a><li> *(J1::<b>UniformScaling{T<:Number}</b>,J2::<b>UniformScaling{T<:Number}</b>) at <a href=\"https://github.com/JuliaLang/julia/tree/483dbf5279efe29f94cf35d42de0ab0a673fb34e/base/linalg/uniformscaling.jl#L67\" target=\"_blank\">linalg/uniformscaling.jl:67</a><li> *(J::<b>UniformScaling{T<:Number}</b>,B::<b>BitArray{2}</b>) at <a href=\"https://github.com/JuliaLang/julia/tree/483dbf5279efe29f94cf35d42de0ab0a673fb34e/base/linalg/uniformscaling.jl#L69\" target=\"_blank\">linalg/uniformscaling.jl:69</a><li> *<i>{Tv,Ti}</i>(J::<b>UniformScaling{T<:Number}</b>,S::<b>SparseMatrixCSC{Tv,Ti}</b>) at <a href=\"https://github.com/JuliaLang/julia/tree/483dbf5279efe29f94cf35d42de0ab0a673fb34e/base/linalg/uniformscaling.jl#L71\" target=\"_blank\">linalg/uniformscaling.jl:71</a><li> *(A::<b>AbstractArray{T,2}</b>,J::<b>UniformScaling{T<:Number}</b>) at <a href=\"https://github.com/JuliaLang/julia/tree/483dbf5279efe29f94cf35d42de0ab0a673fb34e/base/linalg/uniformscaling.jl#L72\" target=\"_blank\">linalg/uniformscaling.jl:72</a><li> *(J::<b>UniformScaling{T<:Number}</b>,A::<b>Union(AbstractArray{T,2},AbstractArray{T,1})</b>) at <a href=\"https://github.com/JuliaLang/julia/tree/483dbf5279efe29f94cf35d42de0ab0a673fb34e/base/linalg/uniformscaling.jl#L73\" target=\"_blank\">linalg/uniformscaling.jl:73</a><li> *(x::<b>Number</b>,J::<b>UniformScaling{T<:Number}</b>) at <a href=\"https://github.com/JuliaLang/julia/tree/483dbf5279efe29f94cf35d42de0ab0a673fb34e/base/linalg/uniformscaling.jl#L75\" target=\"_blank\">linalg/uniformscaling.jl:75</a><li> *(J::<b>UniformScaling{T<:Number}</b>,x::<b>Number</b>) at <a href=\"https://github.com/JuliaLang/julia/tree/483dbf5279efe29f94cf35d42de0ab0a673fb34e/base/linalg/uniformscaling.jl#L76\" target=\"_blank\">linalg/uniformscaling.jl:76</a><li> *<i>{Tv<:Float64}</i>(A::<b>CholmodSparse{Tv<:Float64,Int32}</b>,B::<b>CholmodSparse{Tv<:Float64,Int32}</b>) at <a href=\"https://github.com/JuliaLang/julia/tree/483dbf5279efe29f94cf35d42de0ab0a673fb34e/base/linalg/cholmod.jl#L496\" target=\"_blank\">linalg/cholmod.jl:496</a><li> *<i>{Tv<:Float64}</i>(A::<b>CholmodSparse{Tv<:Float64,Int64}</b>,B::<b>CholmodSparse{Tv<:Float64,Int64}</b>) at <a href=\"https://github.com/JuliaLang/julia/tree/483dbf5279efe29f94cf35d42de0ab0a673fb34e/base/linalg/cholmod.jl#L496\" target=\"_blank\">linalg/cholmod.jl:496</a><li> *<i>{Tv<:Union(Complex{Float64},Float64)}</i>(A::<b>CholmodSparse{Tv<:Union(Complex{Float64},Float64),Ti<:Union(Int32,Int64)}</b>,B::<b>CholmodDense{Tv<:Union(Complex{Float64},Float64)}</b>) at <a href=\"https://github.com/JuliaLang/julia/tree/483dbf5279efe29f94cf35d42de0ab0a673fb34e/base/linalg/cholmod.jl#L870\" target=\"_blank\">linalg/cholmod.jl:870</a><li> *<i>{Tv<:Union(Complex{Float64},Float64)}</i>(A::<b>CholmodSparse{Tv<:Union(Complex{Float64},Float64),Ti<:Union(Int32,Int64)}</b>,B::<b>Union(Array{Tv<:Union(Complex{Float64},Float64),2},Array{Tv<:Union(Complex{Float64},Float64),1})</b>) at <a href=\"https://github.com/JuliaLang/julia/tree/483dbf5279efe29f94cf35d42de0ab0a673fb34e/base/linalg/cholmod.jl#L871\" target=\"_blank\">linalg/cholmod.jl:871</a><li> *(p::<b>Vec2</b>,s::<b>Real</b>) at <a href=\"https://github.com/JuliaLang/julia/tree/483dbf5279efe29f94cf35d42de0ab0a673fb34e/base/graphics.jl#L62\" target=\"_blank\">graphics.jl:62</a><li> *(bb::<b>BoundingBox</b>,s::<b>Real</b>) at <a href=\"https://github.com/JuliaLang/julia/tree/483dbf5279efe29f94cf35d42de0ab0a673fb34e/base/graphics.jl#L147\" target=\"_blank\">graphics.jl:147</a><li> *<i>{P<:Period}</i>(x::<b>P<:Period</b>,y::<b>P<:Period</b>) at <a href=\"https://github.com/quinnj/Dates.jl/tree/333857d4166346beac830592dd0f407d6a44b6c6/src/dates/periods.jl#L55\" target=\"_blank\">/home/favio/.julia/v0.3/Dates/src/dates/periods.jl:55</a><li> *<i>{P<:Period}</i>(x::<b>P<:Period</b>,y::<b>Real</b>) at <a href=\"https://github.com/quinnj/Dates.jl/tree/333857d4166346beac830592dd0f407d6a44b6c6/src/dates/periods.jl#L57\" target=\"_blank\">/home/favio/.julia/v0.3/Dates/src/dates/periods.jl:57</a><li> *(x::<b>Instant</b>,y::<b>Instant</b>) at <a href=\"https://github.com/quinnj/Dates.jl/tree/333857d4166346beac830592dd0f407d6a44b6c6/src/dates/arithmetic.jl#L3\" target=\"_blank\">/home/favio/.julia/v0.3/Dates/src/dates/arithmetic.jl:3</a><li> *(x::<b>TimeType</b>,y::<b>TimeType</b>) at <a href=\"https://github.com/quinnj/Dates.jl/tree/333857d4166346beac830592dd0f407d6a44b6c6/src/dates/arithmetic.jl#L10\" target=\"_blank\">/home/favio/.julia/v0.3/Dates/src/dates/arithmetic.jl:10</a><li> *(a,b,c) at <a href=\"https://github.com/JuliaLang/julia/tree/483dbf5279efe29f94cf35d42de0ab0a673fb34e/base/operators.jl#L82\" target=\"_blank\">operators.jl:82</a><li> *(a,b,c,xs...) at <a href=\"https://github.com/JuliaLang/julia/tree/483dbf5279efe29f94cf35d42de0ab0a673fb34e/base/operators.jl#L83\" target=\"_blank\">operators.jl:83</a></ul>"
      ],
      "text/plain": [
       "# 124 methods for generic function \"*\":\n",
       "*(x::Bool,y::Bool) at bool.jl:41\n",
       "*{T<:Unsigned}(x::Bool,y::T<:Unsigned) at bool.jl:56\n",
       "*(x::Bool,z::Complex{T<:Real}) at complex.jl:116\n",
       "*{T<:Number}(x::Bool,y::T<:Number) at bool.jl:52\n",
       "*(z::Complex{T<:Real},x::Bool) at complex.jl:117\n",
       "*(y::Number,x::Bool) at bool.jl:58\n",
       "*{T,S}(A::Union(DenseArray{T,2},SubArray{T,2,A<:DenseArray{T,N},I<:(Union(Int64,Range{Int64})...,)}),B::Union(DenseArray{S,2},SubArray{S,2,A<:DenseArray{T,N},I<:(Union(Int64,Range{Int64})...,)})) at linalg/matmul.jl:116\n",
       "*(A::Union(Symmetric{T},Hermitian{T}),B::Union(Symmetric{T},Hermitian{T})) at linalg/symmetric.jl:35\n",
       "*(A::Union(Symmetric{T},Hermitian{T}),B::Union(DenseArray{T,2},SubArray{T,2,A<:DenseArray{T,N},I<:(Union(Int64,Range{Int64})...,)})) at linalg/symmetric.jl:36\n",
       "*(A::Union(DenseArray{T,2},SubArray{T,2,A<:DenseArray{T,N},I<:(Union(Int64,Range{Int64})...,)}),B::Union(Symmetric{T},Hermitian{T})) at linalg/symmetric.jl:37\n",
       "*{T<:Union(Complex{Float64},Float64,Complex{Float32},Float32),S<:Union(DenseArray{T,2},SubArray{T,2,A<:DenseArray{T,N},I<:(Union(Int64,Range{Int64})...,)}),UpLo,IsUnit}(A::Triangular{T<:Union(Complex{Float64},Float64,Complex{Float32},Float32),S<:Union(DenseArray{T,2},SubArray{T,2,A<:DenseArray{T,N},I<:(Union(Int64,Range{Int64})...,)}),UpLo,IsUnit},B::Triangular{T<:Union(Complex{Float64},Float64,Complex{Float32},Float32),S<:Union(DenseArray{T,2},SubArray{T,2,A<:DenseArray{T,N},I<:(Union(Int64,Range{Int64})...,)}),UpLo,IsUnit}) at linalg/triangular.jl:23\n",
       "*(A::Tridiagonal{T},B::Triangular{T,S<:AbstractArray{T,2},UpLo,IsUnit}) at linalg/triangular.jl:206\n",
       "*{TA,TB,SA<:AbstractArray{T,2},SB<:AbstractArray{T,2},UpLoA,UpLoB,IsUnitA,IsUnitB}(A::Triangular{TA,SA<:AbstractArray{T,2},UpLoA,IsUnitA},B::Triangular{TB,SB<:AbstractArray{T,2},UpLoB,IsUnitB}) at linalg/triangular.jl:209\n",
       "*(Da::Diagonal{T},Db::Diagonal{T}) at linalg/diagonal.jl:53\n",
       "*(A::Union(Bidiagonal{T},Triangular{T,S<:AbstractArray{T,2},UpLo,IsUnit},SymTridiagonal{T},Diagonal{T},Tridiagonal{T}),B::Union(Bidiagonal{T},Triangular{T,S<:AbstractArray{T,2},UpLo,IsUnit},SymTridiagonal{T},Diagonal{T},Tridiagonal{T})) at linalg/bidiag.jl:114\n",
       "*{T<:Union(Int8,Int32,Int16)}(x::T<:Union(Int8,Int32,Int16),y::T<:Union(Int8,Int32,Int16)) at int.jl:18\n",
       "*{T<:Union(Uint32,Uint16,Uint8)}(x::T<:Union(Uint32,Uint16,Uint8),y::T<:Union(Uint32,Uint16,Uint8)) at int.jl:22\n",
       "*(x::Int64,y::Int64) at int.jl:47\n",
       "*(x::Uint64,y::Uint64) at int.jl:48\n",
       "*(x::Int128,y::Int128) at int.jl:586\n",
       "*(x::Uint128,y::Uint128) at int.jl:587\n",
       "*(x::Float32,y::Float32) at float.jl:123\n",
       "*(x::Float64,y::Float64) at float.jl:124\n",
       "*(z::Complex{T<:Real},w::Complex{T<:Real}) at complex.jl:112\n",
       "*(x::Real,z::Complex{T<:Real}) at complex.jl:118\n",
       "*(z::Complex{T<:Real},x::Real) at complex.jl:119\n",
       "*(x::Rational{T<:Integer},y::Rational{T<:Integer}) at rational.jl:118\n",
       "*(a::Float16,b::Float16) at float16.jl:132\n",
       "*(x::BigInt,y::BigInt) at gmp.jl:195\n",
       "*(a::BigInt,b::BigInt,c::BigInt) at gmp.jl:218\n",
       "*(a::BigInt,b::BigInt,c::BigInt,d::BigInt) at gmp.jl:224\n",
       "*(a::BigInt,b::BigInt,c::BigInt,d::BigInt,e::BigInt) at gmp.jl:231\n",
       "*(x::BigInt,c::Union(Uint32,Uint64,Uint16,Uint8)) at gmp.jl:265\n",
       "*(c::Union(Uint32,Uint64,Uint16,Uint8),x::BigInt) at gmp.jl:269\n",
       "*(x::BigInt,c::Union(Int8,Int32,Int64,Int16)) at gmp.jl:271\n",
       "*(c::Union(Int8,Int32,Int64,Int16),x::BigInt) at gmp.jl:275\n",
       "*(x::BigFloat,y::BigFloat) at mpfr.jl:149\n",
       "*(x::BigFloat,c::Union(Uint32,Uint64,Uint16,Uint8)) at mpfr.jl:156\n",
       "*(c::Union(Uint32,Uint64,Uint16,Uint8),x::BigFloat) at mpfr.jl:160\n",
       "*(x::BigFloat,c::Union(Int8,Int32,Int64,Int16)) at mpfr.jl:164\n",
       "*(c::Union(Int8,Int32,Int64,Int16),x::BigFloat) at mpfr.jl:168\n",
       "*(x::BigFloat,c::Union(Float64,Float16,Float32)) at mpfr.jl:172\n",
       "*(c::Union(Float64,Float16,Float32),x::BigFloat) at mpfr.jl:176\n",
       "*(x::BigFloat,c::BigInt) at mpfr.jl:180\n",
       "*(c::BigInt,x::BigFloat) at mpfr.jl:184\n",
       "*(a::BigFloat,b::BigFloat,c::BigFloat) at mpfr.jl:255\n",
       "*(a::BigFloat,b::BigFloat,c::BigFloat,d::BigFloat) at mpfr.jl:261\n",
       "*(a::BigFloat,b::BigFloat,c::BigFloat,d::BigFloat,e::BigFloat) at mpfr.jl:268\n",
       "*(x::MathConst{sym},y::MathConst{sym}) at constants.jl:23\n",
       "*{f}(x::Fixed32{f},y::Fixed32{f}) at /home/favio/.julia/v0.3/FixedPointNumbers/src/fixed32.jl:36\n",
       "*{T,f}(x::UfixedBase{T,f},y::UfixedBase{T,f}) at /home/favio/.julia/v0.3/FixedPointNumbers/src/ufixed.jl:87\n",
       "*(c::Number,a::Union(LMS{T<:FloatingPoint},XYZ{T<:FloatingPoint})) at /home/favio/.julia/v0.3/Colors/src/algorithms.jl:7\n",
       "*{T<:Number}(x::T<:Number,y::T<:Number) at promotion.jl:189\n",
       "*(x::Number,y::Number) at promotion.jl:159\n",
       "*{T<:Number}(x::T<:Number,D::Diagonal{T}) at linalg/diagonal.jl:50\n",
       "*(s::Real,p::Vec2) at graphics.jl:64\n",
       "*(s::Real,bb::BoundingBox) at graphics.jl:151\n",
       "*{P<:Period}(x::Real,y::P<:Period) at /home/favio/.julia/v0.3/Dates/src/dates/periods.jl:58\n",
       "*{T,f}(n::Integer,::UfixedConstructor{T,f}) at /home/favio/.julia/v0.3/FixedPointNumbers/src/ufixed.jl:30\n",
       "*(x::Number) at operators.jl:72\n",
       "*{T<:Union(Complex{Float64},Float64,Complex{Float32},Float32),S}(A::Union(SubArray{T<:Union(Complex{Float64},Float64,Complex{Float32},Float32),2,A<:DenseArray{T,N},I<:(Union(Int64,Range{Int64})...,)},DenseArray{T<:Union(Complex{Float64},Float64,Complex{Float32},Float32),2}),x::Union(DenseArray{S,1},SubArray{S,1,A<:DenseArray{T,N},I<:(Union(Int64,Range{Int64})...,)})) at linalg/matmul.jl:67\n",
       "*(A::SymTridiagonal{T},B::Number) at linalg/tridiag.jl:59\n",
       "*(A::Tridiagonal{T},B::Number) at linalg/tridiag.jl:249\n",
       "*{T<:Union(Complex{Float64},Float64,Complex{Float32},Float32),S<:Union(DenseArray{T,2},SubArray{T,2,A<:DenseArray{T,N},I<:(Union(Int64,Range{Int64})...,)}),UpLo,IsUnit}(A::Triangular{T<:Union(Complex{Float64},Float64,Complex{Float32},Float32),S<:Union(DenseArray{T,2},SubArray{T,2,A<:DenseArray{T,N},I<:(Union(Int64,Range{Int64})...,)}),UpLo,IsUnit},B::Union(DenseArray{T,1},DenseArray{T,2},SubArray{T,1,A<:DenseArray{T,N},I<:(Union(Int64,Range{Int64})...,)},SubArray{T,2,A<:DenseArray{T,N},I<:(Union(Int64,Range{Int64})...,)})) at linalg/triangular.jl:24\n",
       "*{T,S,UpLo,IsUnit}(A::Triangular{T,S,UpLo,IsUnit},x::Number) at linalg/triangular.jl:157\n",
       "*{TvA,TiA}(X::Triangular{T,S<:AbstractArray{T,2},UpLo,IsUnit},A::SparseMatrixCSC{TvA,TiA}) at linalg/sparse.jl:129\n",
       "*{T,S<:AbstractArray{T,2},UpLo,IsUnit}(A::Triangular{T,S<:AbstractArray{T,2},UpLo,IsUnit},B::Union(AbstractArray{T,2},AbstractArray{T,1})) at linalg/triangular.jl:210\n",
       "*{TA,Tb}(A::Union(QRPackedQ{TA},QRCompactWYQ{TA}),b::Union(DenseArray{Tb,1},SubArray{Tb,1,A<:DenseArray{T,N},I<:(Union(Int64,Range{Int64})...,)})) at linalg/factorization.jl:277\n",
       "*{TA,TB}(A::Union(QRPackedQ{TA},QRCompactWYQ{TA}),B::Union(DenseArray{TB,2},SubArray{TB,2,A<:DenseArray{T,N},I<:(Union(Int64,Range{Int64})...,)})) at linalg/factorization.jl:283\n",
       "*{TA,TQ,N}(A::Union(SubArray{TA,N,A<:DenseArray{T,N},I<:(Union(Int64,Range{Int64})...,)},DenseArray{TA,N}),Q::Union(QRCompactWYQ{TQ},QRPackedQ{TQ})) at linalg/factorization.jl:345\n",
       "*(W::Woodbury{T},B::Union(DenseArray{T,1},DenseArray{T,2},SubArray{T,1,A<:DenseArray{T,N},I<:(Union(Int64,Range{Int64})...,)},SubArray{T,2,A<:DenseArray{T,N},I<:(Union(Int64,Range{Int64})...,)})) at linalg/woodbury.jl:70\n",
       "*{T<:Number}(D::Diagonal{T},x::T<:Number) at linalg/diagonal.jl:51\n",
       "*(D::Diagonal{T},V::Array{T,1}) at linalg/diagonal.jl:54\n",
       "*(A::Array{T,2},D::Diagonal{T}) at linalg/diagonal.jl:55\n",
       "*(D::Diagonal{T},A::Array{T,2}) at linalg/diagonal.jl:56\n",
       "*(A::Bidiagonal{T},B::Number) at linalg/bidiag.jl:108\n",
       "*{T}(A::Bidiagonal{T},B::AbstractArray{T,1}) at linalg/bidiag.jl:119\n",
       "*(B::BitArray{2},J::UniformScaling{T<:Number}) at linalg/uniformscaling.jl:68\n",
       "*(S::SparseMatrixCSC{Tv,Ti<:Integer},J::UniformScaling{T<:Number}) at linalg/uniformscaling.jl:70\n",
       "*{T}(G1::Givens{T},G2::Givens{T}) at linalg/givens.jl:197\n",
       "*(G::Givens{T},B::BitArray{2}) at linalg/givens.jl:198\n",
       "*{TBf,TBi}(G::Givens{T},B::SparseMatrixCSC{TBf,TBi}) at linalg/givens.jl:199\n",
       "*(R::Union(Givens{T},Rotation{T}),A::AbstractArray{T,2}) at linalg/givens.jl:200\n",
       "*{Tv,Ti}(A::SparseMatrixCSC{Tv,Ti},B::SparseMatrixCSC{Tv,Ti}) at linalg/sparse.jl:143\n",
       "*{TvA,TiA,TvB,TiB}(A::SparseMatrixCSC{TvA,TiA},B::SparseMatrixCSC{TvB,TiB}) at linalg/sparse.jl:4\n",
       "*{TvA,TiA}(A::SparseMatrixCSC{TvA,TiA},X::BitArray{1}) at linalg/sparse.jl:11\n",
       "*{TvA,TiA}(A::SparseMatrixCSC{TvA,TiA},X::BitArray{2}) at linalg/sparse.jl:109\n",
       "*{TA,S,Tx}(A::SparseMatrixCSC{TA,S},x::AbstractArray{Tx,1}) at linalg/sparse.jl:32\n",
       "*(X::BitArray{1},A::SparseMatrixCSC{Tv,Ti<:Integer}) at linalg/sparse.jl:95\n",
       "*{TvA,TiA,TX}(A::SparseMatrixCSC{TvA,TiA},X::AbstractArray{TX,2}) at linalg/sparse.jl:111\n",
       "*{TvA,TiA}(X::BitArray{2},A::SparseMatrixCSC{TvA,TiA}) at linalg/sparse.jl:126\n",
       "*{TX,TvA,TiA}(X::Tridiagonal{TX},A::SparseMatrixCSC{TvA,TiA}) at linalg/sparse.jl:128\n",
       "*{T<:Number}(x::AbstractArray{T<:Number,N}) at abstractarray.jl:363\n",
       "*(B::Number,A::SymTridiagonal{T}) at linalg/tridiag.jl:60\n",
       "*(B::Number,A::Tridiagonal{T}) at linalg/tridiag.jl:250\n",
       "*{T,S,UpLo,IsUnit}(x::Number,A::Triangular{T,S,UpLo,IsUnit}) at linalg/triangular.jl:167\n",
       "*(B::Number,A::Bidiagonal{T}) at linalg/bidiag.jl:109\n",
       "*(A::Number,B::AbstractArray{T,N}) at abstractarray.jl:367\n",
       "*(A::AbstractArray{T,N},B::Number) at abstractarray.jl:368\n",
       "*(s::String...) at string.jl:76\n",
       "*{T,S<:AbstractArray{T,2},UpLo,IsUnit}(A::AbstractArray{T,2},B::Triangular{T,S<:AbstractArray{T,2},UpLo,IsUnit}) at linalg/triangular.jl:211\n",
       "*{TX,TvA,TiA}(X::AbstractArray{TX,2},A::SparseMatrixCSC{TvA,TiA}) at linalg/sparse.jl:131\n",
       "*{T,S}(A::AbstractArray{T,2},x::AbstractArray{S,1}) at linalg/matmul.jl:71\n",
       "*{T1,T2}(X::AbstractArray{T1,1},A::SparseMatrixCSC{T2,Ti<:Integer}) at linalg/sparse.jl:99\n",
       "*(A::AbstractArray{T,1},B::AbstractArray{T,2}) at linalg/matmul.jl:74\n",
       "*(J1::UniformScaling{T<:Number},J2::UniformScaling{T<:Number}) at linalg/uniformscaling.jl:67\n",
       "*(J::UniformScaling{T<:Number},B::BitArray{2}) at linalg/uniformscaling.jl:69\n",
       "*{Tv,Ti}(J::UniformScaling{T<:Number},S::SparseMatrixCSC{Tv,Ti}) at linalg/uniformscaling.jl:71\n",
       "*(A::AbstractArray{T,2},J::UniformScaling{T<:Number}) at linalg/uniformscaling.jl:72\n",
       "*(J::UniformScaling{T<:Number},A::Union(AbstractArray{T,2},AbstractArray{T,1})) at linalg/uniformscaling.jl:73\n",
       "*(x::Number,J::UniformScaling{T<:Number}) at linalg/uniformscaling.jl:75\n",
       "*(J::UniformScaling{T<:Number},x::Number) at linalg/uniformscaling.jl:76\n",
       "*{Tv<:Float64}(A::CholmodSparse{Tv<:Float64,Int32},B::CholmodSparse{Tv<:Float64,Int32}) at linalg/cholmod.jl:496\n",
       "*{Tv<:Float64}(A::CholmodSparse{Tv<:Float64,Int64},B::CholmodSparse{Tv<:Float64,Int64}) at linalg/cholmod.jl:496\n",
       "*{Tv<:Union(Complex{Float64},Float64)}(A::CholmodSparse{Tv<:Union(Complex{Float64},Float64),Ti<:Union(Int32,Int64)},B::CholmodDense{Tv<:Union(Complex{Float64},Float64)}) at linalg/cholmod.jl:870\n",
       "*{Tv<:Union(Complex{Float64},Float64)}(A::CholmodSparse{Tv<:Union(Complex{Float64},Float64),Ti<:Union(Int32,Int64)},B::Union(Array{Tv<:Union(Complex{Float64},Float64),2},Array{Tv<:Union(Complex{Float64},Float64),1})) at linalg/cholmod.jl:871\n",
       "*(p::Vec2,s::Real) at graphics.jl:62\n",
       "*(bb::BoundingBox,s::Real) at graphics.jl:147\n",
       "*{P<:Period}(x::P<:Period,y::P<:Period) at /home/favio/.julia/v0.3/Dates/src/dates/periods.jl:55\n",
       "*{P<:Period}(x::P<:Period,y::Real) at /home/favio/.julia/v0.3/Dates/src/dates/periods.jl:57\n",
       "*(x::Instant,y::Instant) at /home/favio/.julia/v0.3/Dates/src/dates/arithmetic.jl:3\n",
       "*(x::TimeType,y::TimeType) at /home/favio/.julia/v0.3/Dates/src/dates/arithmetic.jl:10\n",
       "*(a,b,c) at operators.jl:82\n",
       "*(a,b,c,xs...) at operators.jl:83"
      ]
     },
     "execution_count": 95,
     "metadata": {},
     "output_type": "execute_result"
    }
   ],
   "source": [
    "methods(*)"
   ]
  },
  {
   "cell_type": "markdown",
   "metadata": {},
   "source": [
    "All of these are defined in Julia itself. (Although the definitions for basic types like `Int` are only shallow wrappers around underlying C code.) We see that generic functions can be a complicated \"patchwork\" made of different methods for different types."
   ]
  },
  {
   "cell_type": "markdown",
   "metadata": {},
   "source": [
    "We can find the exact method used for a given operation using `@which`:"
   ]
  },
  {
   "cell_type": "code",
   "execution_count": 96,
   "metadata": {
    "collapsed": false
   },
   "outputs": [
    {
     "data": {
      "text/html": [
       "*(z::<b>Complex{T<:Real}</b>,w::<b>Complex{T<:Real}</b>) at <a href=\"https://github.com/JuliaLang/julia/tree/483dbf5279efe29f94cf35d42de0ab0a673fb34e/base/complex.jl#L112\" target=\"_blank\">complex.jl:112</a>"
      ],
      "text/plain": [
       "*(z::Complex{T<:Real},w::Complex{T<:Real}) at complex.jl:112"
      ]
     },
     "execution_count": 96,
     "metadata": {},
     "output_type": "execute_result"
    }
   ],
   "source": [
    "@which a * b"
   ]
  },
  {
   "cell_type": "markdown",
   "metadata": {},
   "source": [
    "## Initial conditions: matrices"
   ]
  },
  {
   "cell_type": "markdown",
   "metadata": {},
   "source": [
    "We are now ready to think about how to generate a grid of initial conditions of the form $a+bi$ in the complex plane, $\\mathbb{C}$. Firstly, we could just iterate over the initial conditions in two repeated `for`s, e.g."
   ]
  },
  {
   "cell_type": "code",
   "execution_count": 97,
   "metadata": {
    "collapsed": false
   },
   "outputs": [
    {
     "name": "stdout",
     "output_type": "stream",
     "text": [
      "(-2, -2)\n",
      "(-2, -1)\n",
      "(-2, 0)\n",
      "(-2, 1)\n",
      "(-1, -2)\n",
      "(-1, -1)\n",
      "(-1, 0)\n",
      "(-1, 1)\n",
      "(0, -2)\n",
      "(0, -1)\n",
      "(0, 0)\n",
      "(0, 1)\n",
      "(1, -2)\n",
      "(1, -1)\n",
      "(1, 0)\n",
      "(1, 1)\n"
     ]
    }
   ],
   "source": [
    "for i in -2:1\n",
    "    for j in -2:1\n",
    "        println(\"($i, $j)\")\n",
    "    end\n",
    "end"
   ]
  },
  {
   "cell_type": "code",
   "execution_count": 99,
   "metadata": {
    "collapsed": false
   },
   "outputs": [
    {
     "name": "stdout",
     "output_type": "stream",
     "text": [
      "(-2, -2)\n",
      "(-2, -1)\n",
      "(-2, 0)\n",
      "(-2, 1)\n",
      "(-1, -2)\n",
      "(-1, -1)\n",
      "(-1, 0)\n",
      "(-1, 1)\n",
      "(0, -2)\n",
      "(0, -1)\n",
      "(0, 0)\n",
      "(0, 1)\n",
      "(1, -2)\n",
      "(1, -1)\n",
      "(1, 0)\n",
      "(1, 1)\n"
     ]
    }
   ],
   "source": [
    "for i in -2:1, j in -2:1\n",
    "    println(\"($i, $j)\")\n",
    "end"
   ]
  },
  {
   "cell_type": "markdown",
   "metadata": {},
   "source": [
    "Here we have used **string interpolation**: the *value* of the variable `i` is substituted into the string instead of the sequence `$i$`. [Note that this is not recommended for performance-critical applications.]"
   ]
  },
  {
   "cell_type": "markdown",
   "metadata": {},
   "source": [
    "But we still require somewhere to store the results. It is natural to use a **matrix**. A simple way of generating a matrix is the `zeros` function:"
   ]
  },
  {
   "cell_type": "code",
   "execution_count": 100,
   "metadata": {
    "collapsed": false
   },
   "outputs": [
    {
     "data": {
      "text/plain": [
       "3-element Array{Float64,1}:\n",
       " 0.0\n",
       " 0.0\n",
       " 0.0"
      ]
     },
     "execution_count": 100,
     "metadata": {},
     "output_type": "execute_result"
    }
   ],
   "source": [
    "zeros(3)"
   ]
  },
  {
   "cell_type": "markdown",
   "metadata": {},
   "source": [
    "We see that with a single element, we generate a *vector* of zeros, while"
   ]
  },
  {
   "cell_type": "code",
   "execution_count": 101,
   "metadata": {
    "collapsed": false
   },
   "outputs": [
    {
     "data": {
      "text/plain": [
       "3x3 Array{Float64,2}:\n",
       " 0.0  0.0  0.0\n",
       " 0.0  0.0  0.0\n",
       " 0.0  0.0  0.0"
      ]
     },
     "execution_count": 101,
     "metadata": {},
     "output_type": "execute_result"
    }
   ],
   "source": [
    "zeros(3, 3)"
   ]
  },
  {
   "cell_type": "markdown",
   "metadata": {},
   "source": [
    "gives a *matrix*, i.e. a 2-dimensional `Array`."
   ]
  },
  {
   "cell_type": "markdown",
   "metadata": {},
   "source": [
    "Multiple dispatch allows Julia to provide convenience versions of functions like this. For example:"
   ]
  },
  {
   "cell_type": "code",
   "execution_count": 102,
   "metadata": {
    "collapsed": false
   },
   "outputs": [
    {
     "data": {
      "text/plain": [
       "6-element Array{Int64,1}:\n",
       " 0\n",
       " 0\n",
       " 0\n",
       " 0\n",
       " 0\n",
       " 0"
      ]
     },
     "execution_count": 102,
     "metadata": {},
     "output_type": "execute_result"
    }
   ],
   "source": [
    "zeros(-3:2)"
   ]
  },
  {
   "cell_type": "markdown",
   "metadata": {},
   "source": [
    "creates a vector of the same length as the range!"
   ]
  },
  {
   "cell_type": "markdown",
   "metadata": {},
   "source": [
    "However, this does not work for two different ranges:"
   ]
  },
  {
   "cell_type": "code",
   "execution_count": 103,
   "metadata": {
    "collapsed": false
   },
   "outputs": [
    {
     "ename": "LoadError",
     "evalue": "`Array{T,N}` has no method matching Array{T,N}(::Type{Float64}, ::UnitRange{Int64}, ::UnitRange{Int64})\nwhile loading In[103], in expression starting on line 1",
     "output_type": "error",
     "traceback": [
      "`Array{T,N}` has no method matching Array{T,N}(::Type{Float64}, ::UnitRange{Int64}, ::UnitRange{Int64})\nwhile loading In[103], in expression starting on line 1",
      "",
      " in zeros at array.jl:170"
     ]
    }
   ],
   "source": [
    "zeros(-3:2, -3:2)"
   ]
  },
  {
   "cell_type": "markdown",
   "metadata": {},
   "source": [
    "We can use `length` for example:"
   ]
  },
  {
   "cell_type": "code",
   "execution_count": 104,
   "metadata": {
    "collapsed": false
   },
   "outputs": [
    {
     "data": {
      "text/plain": [
       "101x101 Array{Float64,2}:\n",
       " 0.0  0.0  0.0  0.0  0.0  0.0  0.0  0.0  …  0.0  0.0  0.0  0.0  0.0  0.0  0.0\n",
       " 0.0  0.0  0.0  0.0  0.0  0.0  0.0  0.0     0.0  0.0  0.0  0.0  0.0  0.0  0.0\n",
       " 0.0  0.0  0.0  0.0  0.0  0.0  0.0  0.0     0.0  0.0  0.0  0.0  0.0  0.0  0.0\n",
       " 0.0  0.0  0.0  0.0  0.0  0.0  0.0  0.0     0.0  0.0  0.0  0.0  0.0  0.0  0.0\n",
       " 0.0  0.0  0.0  0.0  0.0  0.0  0.0  0.0     0.0  0.0  0.0  0.0  0.0  0.0  0.0\n",
       " 0.0  0.0  0.0  0.0  0.0  0.0  0.0  0.0  …  0.0  0.0  0.0  0.0  0.0  0.0  0.0\n",
       " 0.0  0.0  0.0  0.0  0.0  0.0  0.0  0.0     0.0  0.0  0.0  0.0  0.0  0.0  0.0\n",
       " 0.0  0.0  0.0  0.0  0.0  0.0  0.0  0.0     0.0  0.0  0.0  0.0  0.0  0.0  0.0\n",
       " 0.0  0.0  0.0  0.0  0.0  0.0  0.0  0.0     0.0  0.0  0.0  0.0  0.0  0.0  0.0\n",
       " 0.0  0.0  0.0  0.0  0.0  0.0  0.0  0.0     0.0  0.0  0.0  0.0  0.0  0.0  0.0\n",
       " 0.0  0.0  0.0  0.0  0.0  0.0  0.0  0.0  …  0.0  0.0  0.0  0.0  0.0  0.0  0.0\n",
       " 0.0  0.0  0.0  0.0  0.0  0.0  0.0  0.0     0.0  0.0  0.0  0.0  0.0  0.0  0.0\n",
       " 0.0  0.0  0.0  0.0  0.0  0.0  0.0  0.0     0.0  0.0  0.0  0.0  0.0  0.0  0.0\n",
       " ⋮                        ⋮              ⋱       ⋮                        ⋮  \n",
       " 0.0  0.0  0.0  0.0  0.0  0.0  0.0  0.0     0.0  0.0  0.0  0.0  0.0  0.0  0.0\n",
       " 0.0  0.0  0.0  0.0  0.0  0.0  0.0  0.0  …  0.0  0.0  0.0  0.0  0.0  0.0  0.0\n",
       " 0.0  0.0  0.0  0.0  0.0  0.0  0.0  0.0     0.0  0.0  0.0  0.0  0.0  0.0  0.0\n",
       " 0.0  0.0  0.0  0.0  0.0  0.0  0.0  0.0     0.0  0.0  0.0  0.0  0.0  0.0  0.0\n",
       " 0.0  0.0  0.0  0.0  0.0  0.0  0.0  0.0     0.0  0.0  0.0  0.0  0.0  0.0  0.0\n",
       " 0.0  0.0  0.0  0.0  0.0  0.0  0.0  0.0     0.0  0.0  0.0  0.0  0.0  0.0  0.0\n",
       " 0.0  0.0  0.0  0.0  0.0  0.0  0.0  0.0  …  0.0  0.0  0.0  0.0  0.0  0.0  0.0\n",
       " 0.0  0.0  0.0  0.0  0.0  0.0  0.0  0.0     0.0  0.0  0.0  0.0  0.0  0.0  0.0\n",
       " 0.0  0.0  0.0  0.0  0.0  0.0  0.0  0.0     0.0  0.0  0.0  0.0  0.0  0.0  0.0\n",
       " 0.0  0.0  0.0  0.0  0.0  0.0  0.0  0.0     0.0  0.0  0.0  0.0  0.0  0.0  0.0\n",
       " 0.0  0.0  0.0  0.0  0.0  0.0  0.0  0.0     0.0  0.0  0.0  0.0  0.0  0.0  0.0\n",
       " 0.0  0.0  0.0  0.0  0.0  0.0  0.0  0.0  …  0.0  0.0  0.0  0.0  0.0  0.0  0.0"
      ]
     },
     "execution_count": 104,
     "metadata": {},
     "output_type": "execute_result"
    }
   ],
   "source": [
    "linear_initial_conditions = -5:0.1:5\n",
    "roots = zeros(length(linear_initial_conditions), length(linear_initial_conditions))"
   ]
  },
  {
   "cell_type": "markdown",
   "metadata": {},
   "source": [
    "However, if we try to store a complex number in this matrix, we find a problem:"
   ]
  },
  {
   "cell_type": "code",
   "execution_count": 105,
   "metadata": {
    "collapsed": false
   },
   "outputs": [
    {
     "ename": "LoadError",
     "evalue": "InexactError()\nwhile loading In[105], in expression starting on line 1",
     "output_type": "error",
     "traceback": [
      "InexactError()\nwhile loading In[105], in expression starting on line 1",
      "",
      " in setindex! at array.jl:308"
     ]
    }
   ],
   "source": [
    "roots[1, 1] = 3+4im"
   ]
  },
  {
   "cell_type": "markdown",
   "metadata": {},
   "source": [
    "An `InexactError` is a sign that we are trying to put a value into a type that it \"doesn't fit into\", for example a `Float64` into an `Int64`, or, in this case, a complex number into a float. We must instead create the matrix to hold complex numbers:"
   ]
  },
  {
   "cell_type": "code",
   "execution_count": 106,
   "metadata": {
    "collapsed": false
   },
   "outputs": [
    {
     "data": {
      "text/plain": [
       "101x101 Array{Complex{Float64},2}:\n",
       " 0.0+0.0im  0.0+0.0im  0.0+0.0im  …  0.0+0.0im  0.0+0.0im  0.0+0.0im\n",
       " 0.0+0.0im  0.0+0.0im  0.0+0.0im     0.0+0.0im  0.0+0.0im  0.0+0.0im\n",
       " 0.0+0.0im  0.0+0.0im  0.0+0.0im     0.0+0.0im  0.0+0.0im  0.0+0.0im\n",
       " 0.0+0.0im  0.0+0.0im  0.0+0.0im     0.0+0.0im  0.0+0.0im  0.0+0.0im\n",
       " 0.0+0.0im  0.0+0.0im  0.0+0.0im     0.0+0.0im  0.0+0.0im  0.0+0.0im\n",
       " 0.0+0.0im  0.0+0.0im  0.0+0.0im  …  0.0+0.0im  0.0+0.0im  0.0+0.0im\n",
       " 0.0+0.0im  0.0+0.0im  0.0+0.0im     0.0+0.0im  0.0+0.0im  0.0+0.0im\n",
       " 0.0+0.0im  0.0+0.0im  0.0+0.0im     0.0+0.0im  0.0+0.0im  0.0+0.0im\n",
       " 0.0+0.0im  0.0+0.0im  0.0+0.0im     0.0+0.0im  0.0+0.0im  0.0+0.0im\n",
       " 0.0+0.0im  0.0+0.0im  0.0+0.0im     0.0+0.0im  0.0+0.0im  0.0+0.0im\n",
       " 0.0+0.0im  0.0+0.0im  0.0+0.0im  …  0.0+0.0im  0.0+0.0im  0.0+0.0im\n",
       " 0.0+0.0im  0.0+0.0im  0.0+0.0im     0.0+0.0im  0.0+0.0im  0.0+0.0im\n",
       " 0.0+0.0im  0.0+0.0im  0.0+0.0im     0.0+0.0im  0.0+0.0im  0.0+0.0im\n",
       "    ⋮                             ⋱                           ⋮     \n",
       " 0.0+0.0im  0.0+0.0im  0.0+0.0im     0.0+0.0im  0.0+0.0im  0.0+0.0im\n",
       " 0.0+0.0im  0.0+0.0im  0.0+0.0im  …  0.0+0.0im  0.0+0.0im  0.0+0.0im\n",
       " 0.0+0.0im  0.0+0.0im  0.0+0.0im     0.0+0.0im  0.0+0.0im  0.0+0.0im\n",
       " 0.0+0.0im  0.0+0.0im  0.0+0.0im     0.0+0.0im  0.0+0.0im  0.0+0.0im\n",
       " 0.0+0.0im  0.0+0.0im  0.0+0.0im     0.0+0.0im  0.0+0.0im  0.0+0.0im\n",
       " 0.0+0.0im  0.0+0.0im  0.0+0.0im     0.0+0.0im  0.0+0.0im  0.0+0.0im\n",
       " 0.0+0.0im  0.0+0.0im  0.0+0.0im  …  0.0+0.0im  0.0+0.0im  0.0+0.0im\n",
       " 0.0+0.0im  0.0+0.0im  0.0+0.0im     0.0+0.0im  0.0+0.0im  0.0+0.0im\n",
       " 0.0+0.0im  0.0+0.0im  0.0+0.0im     0.0+0.0im  0.0+0.0im  0.0+0.0im\n",
       " 0.0+0.0im  0.0+0.0im  0.0+0.0im     0.0+0.0im  0.0+0.0im  0.0+0.0im\n",
       " 0.0+0.0im  0.0+0.0im  0.0+0.0im     0.0+0.0im  0.0+0.0im  0.0+0.0im\n",
       " 0.0+0.0im  0.0+0.0im  0.0+0.0im  …  0.0+0.0im  0.0+0.0im  0.0+0.0im"
      ]
     },
     "execution_count": 106,
     "metadata": {},
     "output_type": "execute_result"
    }
   ],
   "source": [
    "linear_initial_conditions = -5:0.1:5\n",
    "roots = zeros(Complex128, length(linear_initial_conditions), length(linear_initial_conditions))"
   ]
  },
  {
   "cell_type": "markdown",
   "metadata": {},
   "source": [
    "Here, `Complex128` is just an alias (an alternative name) for `Complex{Float64}`, so called because two 64-bit `Float64`s require `128` bits of storage in total."
   ]
  },
  {
   "cell_type": "markdown",
   "metadata": {},
   "source": [
    "Now we can insert complex values into the matrix:"
   ]
  },
  {
   "cell_type": "code",
   "execution_count": 107,
   "metadata": {
    "collapsed": false
   },
   "outputs": [
    {
     "data": {
      "text/plain": [
       "3 + 4im"
      ]
     },
     "execution_count": 107,
     "metadata": {},
     "output_type": "execute_result"
    }
   ],
   "source": [
    "roots[1, 1] = 3+4im"
   ]
  },
  {
   "cell_type": "code",
   "execution_count": 108,
   "metadata": {
    "collapsed": false
   },
   "outputs": [
    {
     "data": {
      "text/plain": [
       "101x101 Array{Complex{Float64},2}:\n",
       " 3.0+4.0im  0.0+0.0im  0.0+0.0im  …  0.0+0.0im  0.0+0.0im  0.0+0.0im\n",
       " 0.0+0.0im  0.0+0.0im  0.0+0.0im     0.0+0.0im  0.0+0.0im  0.0+0.0im\n",
       " 0.0+0.0im  0.0+0.0im  0.0+0.0im     0.0+0.0im  0.0+0.0im  0.0+0.0im\n",
       " 0.0+0.0im  0.0+0.0im  0.0+0.0im     0.0+0.0im  0.0+0.0im  0.0+0.0im\n",
       " 0.0+0.0im  0.0+0.0im  0.0+0.0im     0.0+0.0im  0.0+0.0im  0.0+0.0im\n",
       " 0.0+0.0im  0.0+0.0im  0.0+0.0im  …  0.0+0.0im  0.0+0.0im  0.0+0.0im\n",
       " 0.0+0.0im  0.0+0.0im  0.0+0.0im     0.0+0.0im  0.0+0.0im  0.0+0.0im\n",
       " 0.0+0.0im  0.0+0.0im  0.0+0.0im     0.0+0.0im  0.0+0.0im  0.0+0.0im\n",
       " 0.0+0.0im  0.0+0.0im  0.0+0.0im     0.0+0.0im  0.0+0.0im  0.0+0.0im\n",
       " 0.0+0.0im  0.0+0.0im  0.0+0.0im     0.0+0.0im  0.0+0.0im  0.0+0.0im\n",
       " 0.0+0.0im  0.0+0.0im  0.0+0.0im  …  0.0+0.0im  0.0+0.0im  0.0+0.0im\n",
       " 0.0+0.0im  0.0+0.0im  0.0+0.0im     0.0+0.0im  0.0+0.0im  0.0+0.0im\n",
       " 0.0+0.0im  0.0+0.0im  0.0+0.0im     0.0+0.0im  0.0+0.0im  0.0+0.0im\n",
       "    ⋮                             ⋱                           ⋮     \n",
       " 0.0+0.0im  0.0+0.0im  0.0+0.0im     0.0+0.0im  0.0+0.0im  0.0+0.0im\n",
       " 0.0+0.0im  0.0+0.0im  0.0+0.0im  …  0.0+0.0im  0.0+0.0im  0.0+0.0im\n",
       " 0.0+0.0im  0.0+0.0im  0.0+0.0im     0.0+0.0im  0.0+0.0im  0.0+0.0im\n",
       " 0.0+0.0im  0.0+0.0im  0.0+0.0im     0.0+0.0im  0.0+0.0im  0.0+0.0im\n",
       " 0.0+0.0im  0.0+0.0im  0.0+0.0im     0.0+0.0im  0.0+0.0im  0.0+0.0im\n",
       " 0.0+0.0im  0.0+0.0im  0.0+0.0im     0.0+0.0im  0.0+0.0im  0.0+0.0im\n",
       " 0.0+0.0im  0.0+0.0im  0.0+0.0im  …  0.0+0.0im  0.0+0.0im  0.0+0.0im\n",
       " 0.0+0.0im  0.0+0.0im  0.0+0.0im     0.0+0.0im  0.0+0.0im  0.0+0.0im\n",
       " 0.0+0.0im  0.0+0.0im  0.0+0.0im     0.0+0.0im  0.0+0.0im  0.0+0.0im\n",
       " 0.0+0.0im  0.0+0.0im  0.0+0.0im     0.0+0.0im  0.0+0.0im  0.0+0.0im\n",
       " 0.0+0.0im  0.0+0.0im  0.0+0.0im     0.0+0.0im  0.0+0.0im  0.0+0.0im\n",
       " 0.0+0.0im  0.0+0.0im  0.0+0.0im  …  0.0+0.0im  0.0+0.0im  0.0+0.0im"
      ]
     },
     "execution_count": 108,
     "metadata": {},
     "output_type": "execute_result"
    }
   ],
   "source": [
    "roots"
   ]
  },
  {
   "cell_type": "markdown",
   "metadata": {},
   "source": [
    "## Implementing Newton for complex functions "
   ]
  },
  {
   "cell_type": "markdown",
   "metadata": {},
   "source": [
    "We are now ready to make a version of Newton for complex functions. We will try to find cube roots of $1$ in the complex plane, by finding zeros of the function"
   ]
  },
  {
   "cell_type": "code",
   "execution_count": 109,
   "metadata": {
    "collapsed": false
   },
   "outputs": [
    {
     "data": {
      "text/plain": [
       "f (generic function with 1 method)"
      ]
     },
     "execution_count": 109,
     "metadata": {},
     "output_type": "execute_result"
    }
   ],
   "source": [
    "f(z) = z^3 - 1"
   ]
  },
  {
   "cell_type": "markdown",
   "metadata": {},
   "source": [
    "with derivative"
   ]
  },
  {
   "cell_type": "code",
   "execution_count": 110,
   "metadata": {
    "collapsed": false
   },
   "outputs": [
    {
     "data": {
      "text/plain": [
       "f′ (generic function with 1 method)"
      ]
     },
     "execution_count": 110,
     "metadata": {},
     "output_type": "execute_result"
    }
   ],
   "source": [
    "f′(z) = 3z^2"
   ]
  },
  {
   "cell_type": "code",
   "execution_count": 111,
   "metadata": {
    "collapsed": false
   },
   "outputs": [
    {
     "data": {
      "text/plain": [
       "do_complex_roots (generic function with 2 methods)"
      ]
     },
     "execution_count": 111,
     "metadata": {},
     "output_type": "execute_result"
    }
   ],
   "source": [
    "function do_complex_roots(range=-5:0.1:5)  # default value\n",
    "\n",
    "    L = length(range)\n",
    "    \n",
    "    roots = zeros(Complex128, L, L)\n",
    "\n",
    "    for (i, x) in enumerate(range)\n",
    "        for (j, y) in enumerate(range)\n",
    "            \n",
    "            z = x + y*im\n",
    "            \n",
    "            for k in 1:1000\n",
    "                z = z - f(z) / f′(z)\n",
    "            end\n",
    "\n",
    "            roots[i,j] = z\n",
    "        end\n",
    "        \n",
    "    end\n",
    "    \n",
    "    roots\n",
    "end"
   ]
  },
  {
   "cell_type": "code",
   "execution_count": 112,
   "metadata": {
    "collapsed": false
   },
   "outputs": [
    {
     "data": {
      "text/plain": [
       "101x101 Array{Complex{Float64},2}:\n",
       " -0.5-0.866025im  -0.5-0.866025im  …  -0.5+0.866025im  -0.5+0.866025im\n",
       " -0.5-0.866025im  -0.5-0.866025im     -0.5+0.866025im  -0.5+0.866025im\n",
       " -0.5-0.866025im  -0.5-0.866025im     -0.5+0.866025im  -0.5+0.866025im\n",
       " -0.5-0.866025im  -0.5-0.866025im     -0.5+0.866025im  -0.5+0.866025im\n",
       " -0.5-0.866025im  -0.5-0.866025im     -0.5+0.866025im  -0.5+0.866025im\n",
       " -0.5-0.866025im  -0.5-0.866025im  …  -0.5+0.866025im  -0.5+0.866025im\n",
       " -0.5-0.866025im  -0.5-0.866025im     -0.5+0.866025im  -0.5+0.866025im\n",
       " -0.5-0.866025im  -0.5-0.866025im     -0.5+0.866025im  -0.5+0.866025im\n",
       " -0.5-0.866025im  -0.5-0.866025im     -0.5+0.866025im  -0.5+0.866025im\n",
       " -0.5-0.866025im  -0.5-0.866025im     -0.5+0.866025im  -0.5+0.866025im\n",
       " -0.5-0.866025im  -0.5-0.866025im  …  -0.5+0.866025im  -0.5+0.866025im\n",
       " -0.5-0.866025im  -0.5-0.866025im     -0.5+0.866025im  -0.5+0.866025im\n",
       " -0.5-0.866025im  -0.5-0.866025im     -0.5+0.866025im  -0.5+0.866025im\n",
       "     ⋮                             ⋱                       ⋮          \n",
       "  1.0+0.0im        1.0+0.0im           1.0+0.0im        1.0+0.0im     \n",
       "  1.0+0.0im        1.0+0.0im       …   1.0+0.0im        1.0+0.0im     \n",
       "  1.0+0.0im        1.0+0.0im           1.0+0.0im        1.0+0.0im     \n",
       "  1.0+0.0im        1.0+0.0im           1.0+0.0im        1.0+0.0im     \n",
       "  1.0+0.0im        1.0+0.0im           1.0+0.0im        1.0+0.0im     \n",
       "  1.0+0.0im        1.0+0.0im           1.0+0.0im        1.0+0.0im     \n",
       "  1.0+0.0im        1.0+0.0im       …   1.0+0.0im        1.0+0.0im     \n",
       "  1.0+0.0im        1.0+0.0im           1.0+0.0im        1.0+0.0im     \n",
       "  1.0+0.0im        1.0+0.0im           1.0+0.0im        1.0+0.0im     \n",
       "  1.0+0.0im        1.0+0.0im           1.0+0.0im        1.0+0.0im     \n",
       "  1.0+0.0im        1.0+0.0im           1.0+0.0im        1.0+0.0im     \n",
       "  1.0+0.0im        1.0+0.0im       …   1.0+0.0im        1.0+0.0im     "
      ]
     },
     "execution_count": 112,
     "metadata": {},
     "output_type": "execute_result"
    }
   ],
   "source": [
    "roots = do_complex_roots(-5:0.1:5)"
   ]
  },
  {
   "cell_type": "markdown",
   "metadata": {},
   "source": [
    "Now let's use `PyPlot` to plot the result. `PyPlot` only understands floating-point matrices, so we'll take the imaginary part:"
   ]
  },
  {
   "cell_type": "code",
   "execution_count": 113,
   "metadata": {
    "collapsed": false
   },
   "outputs": [],
   "source": [
    "using PyPlot"
   ]
  },
  {
   "cell_type": "code",
   "execution_count": 114,
   "metadata": {
    "collapsed": false
   },
   "outputs": [
    {
     "data": {
      "image/png": "[encoded data removed]",
      "text/plain": [
       "Figure(PyObject <matplotlib.figure.Figure object at 0x7f35aa66a1d0>)"
      ]
     },
     "metadata": {},
     "output_type": "display_data"
    },
    {
     "data": {
      "text/plain": [
       "PyObject <matplotlib.image.AxesImage object at 0x7f35a1c005f8>"
      ]
     },
     "execution_count": 114,
     "metadata": {},
     "output_type": "execute_result"
    }
   ],
   "source": [
    "imshow(imag(roots))"
   ]
  },
  {
   "cell_type": "markdown",
   "metadata": {},
   "source": [
    "Julia uses \"column-major\" storage, whereas Python uses \"row-major\", so in fact we need to flip $x$ and $y$:"
   ]
  },
  {
   "cell_type": "code",
   "execution_count": 115,
   "metadata": {
    "collapsed": false
   },
   "outputs": [
    {
     "data": {
      "text/plain": [
       "do_complex_roots (generic function with 2 methods)"
      ]
     },
     "execution_count": 115,
     "metadata": {},
     "output_type": "execute_result"
    }
   ],
   "source": [
    "function do_complex_roots(range=-5:0.1:5)  # default value\n",
    "\n",
    "    L = length(range)\n",
    "    \n",
    "    roots = zeros(Complex128, L, L)\n",
    "\n",
    "    for (i, x) in enumerate(range)\n",
    "        for (j, y) in enumerate(range)\n",
    "            \n",
    "            z = y + x*im\n",
    "            \n",
    "            for k in 1:1000\n",
    "                z = z - f(z) / f′(z)\n",
    "            end\n",
    "\n",
    "            roots[i,j] = z\n",
    "        end\n",
    "        \n",
    "    end\n",
    "    \n",
    "    roots\n",
    "end"
   ]
  },
  {
   "cell_type": "code",
   "execution_count": 119,
   "metadata": {
    "collapsed": false
   },
   "outputs": [
    {
     "data": {
      "image/png": "[encoded data removed]",
      "text/plain": [
       "Figure(PyObject <matplotlib.figure.Figure object at 0x7f35a1c25550>)"
      ]
     },
     "metadata": {},
     "output_type": "display_data"
    },
    {
     "data": {
      "text/plain": [
       "PyObject <matplotlib.text.Text object at 0x7f35a1d154e0>"
      ]
     },
     "execution_count": 119,
     "metadata": {},
     "output_type": "execute_result"
    }
   ],
   "source": [
    "imshow(imag(do_complex_roots(-3:0.01:3)), extent=(-2,2,-2,2))\n",
    "text(1, 0, L\"1\")\n",
    "text(reim(exp(2π*im/3))..., L\"e^{2\\frac{\\pi}{3}}\")\n",
    "text(reim(exp(-2π*im/3))..., L\"e^{-2\\frac{\\pi}{3}}\")"
   ]
  },
  {
   "cell_type": "markdown",
   "metadata": {},
   "source": [
    "## Array comprehensions "
   ]
  },
  {
   "cell_type": "markdown",
   "metadata": {},
   "source": [
    "Julia has a neat syntax for constructing arrays from iterables that is very similar to mathematical notation.\n",
    "For example, the squares of the numbers from 1 to 10 is\n",
    "\n",
    "$$\\{x^2: x \\in \\{1,\\ldots,10\\} \\},$$\n",
    "\n",
    "i.e. \"the set of $x^2$ for $x$ from $1$ to $10$. In Julia we can write"
   ]
  },
  {
   "cell_type": "code",
   "execution_count": 120,
   "metadata": {
    "collapsed": false
   },
   "outputs": [
    {
     "data": {
      "text/plain": [
       "10-element Array{Int64,1}:\n",
       "   1\n",
       "   4\n",
       "   9\n",
       "  16\n",
       "  25\n",
       "  36\n",
       "  49\n",
       "  64\n",
       "  81\n",
       " 100"
      ]
     },
     "execution_count": 120,
     "metadata": {},
     "output_type": "execute_result"
    }
   ],
   "source": [
    "squares = [x^2 for x in 1:10]"
   ]
  },
  {
   "cell_type": "markdown",
   "metadata": {},
   "source": [
    "Let's define a Newton function by"
   ]
  },
  {
   "cell_type": "code",
   "execution_count": 121,
   "metadata": {
    "collapsed": false
   },
   "outputs": [
    {
     "data": {
      "text/plain": [
       "newton (generic function with 2 methods)"
      ]
     },
     "execution_count": 121,
     "metadata": {},
     "output_type": "execute_result"
    }
   ],
   "source": [
    "function newton(x0, N=100)\n",
    "    x = x0\n",
    "    \n",
    "    for i in 1:N\n",
    "        x = x - f(x) / f′(x)\n",
    "    end\n",
    "    \n",
    "    x\n",
    "end\n",
    "    "
   ]
  },
  {
   "cell_type": "markdown",
   "metadata": {},
   "source": [
    "Then our Newton fractal can be written very concisely as"
   ]
  },
  {
   "cell_type": "code",
   "execution_count": 122,
   "metadata": {
    "collapsed": false
   },
   "outputs": [
    {
     "data": {
      "text/html": [
       "2 methods for generic function <b>newton</b>:<ul><li> newton(x0) at In[121]:2<li> newton(x0,N) at In[121]:2</ul>"
      ],
      "text/plain": [
       "# 2 methods for generic function \"newton\":\n",
       "newton(x0) at In[121]:2\n",
       "newton(x0,N) at In[121]:2"
      ]
     },
     "execution_count": 122,
     "metadata": {},
     "output_type": "execute_result"
    }
   ],
   "source": [
    "methods(newton)"
   ]
  },
  {
   "cell_type": "markdown",
   "metadata": {},
   "source": [
    "Note that the effect of a default argument is simply to create an additional method."
   ]
  },
  {
   "cell_type": "code",
   "execution_count": 123,
   "metadata": {
    "collapsed": false
   },
   "outputs": [
    {
     "data": {
      "text/plain": [
       "newton_fractal (generic function with 1 method)"
      ]
     },
     "execution_count": 123,
     "metadata": {},
     "output_type": "execute_result"
    }
   ],
   "source": [
    "function newton_fractal(range)\n",
    "    [newton(b+a*im) for a in range, b in range]\n",
    "end"
   ]
  },
  {
   "cell_type": "markdown",
   "metadata": {},
   "source": [
    "We can add labels using PyPlot"
   ]
  },
  {
   "cell_type": "code",
   "execution_count": 124,
   "metadata": {
    "collapsed": false
   },
   "outputs": [
    {
     "name": "stdout",
     "output_type": "stream",
     "text": [
      "Add text to the axes.\n",
      "\n",
      "Add text in string `s` to axis at location `x`, `y`, data\n",
      "coordinates.\n",
      "\n",
      "Parameters\n",
      "----------\n",
      "x, y : scalars\n",
      "    data coordinates\n",
      "\n",
      "s : string\n",
      "    text\n",
      "\n",
      "fontdict : dictionary, optional, default: None\n",
      "    A dictionary to override the default text properties. If fontdict\n",
      "    is None, the defaults are determined by your rc parameters.\n",
      "\n",
      "withdash : boolean, optional, default: False\n",
      "    Creates a `~matplotlib.text.TextWithDash` instance instead of a\n",
      "    `~matplotlib.text.Text` instance.\n",
      "\n",
      "Other parameters\n",
      "----------------\n",
      "kwargs : `~matplotlib.text.Text` properties.\n",
      "    Other miscellaneous text parameters.\n",
      "\n",
      "Examples\n",
      "--------\n",
      "Individual keyword arguments can be used to override any given\n",
      "parameter::\n",
      "\n",
      "    >>> text(x, y, s, fontsize=12)\n",
      "\n",
      "The default transform specifies that text is in data coords,\n",
      "alternatively, you can specify text in axis coords (0,0 is\n",
      "lower-left and 1,1 is upper-right).  The example below places\n",
      "text in the center of the axes::\n",
      "\n",
      "    >>> text(0.5, 0.5,'matplotlib', horizontalalignment='center',\n",
      "    ...      verticalalignment='center',\n",
      "    ...      transform=ax.transAxes)\n",
      "\n",
      "You can put a rectangular box around the text instance (e.g., to\n",
      "set a background color) by using the keyword `bbox`.  `bbox` is\n",
      "a dictionary of `~matplotlib.patches.Rectangle`\n",
      "properties.  For example::\n",
      "\n",
      "    >>> text(x, y, s, bbox=dict(facecolor='red', alpha=0.5))\n"
     ]
    }
   ],
   "source": [
    "?text"
   ]
  },
  {
   "cell_type": "code",
   "execution_count": 125,
   "metadata": {
    "collapsed": false
   },
   "outputs": [
    {
     "data": {
      "image/png": "[encoded data removed]",
      "text/plain": [
       "Figure(PyObject <matplotlib.figure.Figure object at 0x7f35a1cf0320>)"
      ]
     },
     "metadata": {},
     "output_type": "display_data"
    },
    {
     "data": {
      "text/plain": [
       "PyObject <matplotlib.text.Text object at 0x7f35a1a1aa58>"
      ]
     },
     "execution_count": 125,
     "metadata": {},
     "output_type": "execute_result"
    }
   ],
   "source": [
    "imshow(imag(newton_fractal(-3:0.01:3)), extent=(-3, 3, -3, 3))\n",
    "\n",
    "text(1, 0, L\"1\")\n",
    "text(reim(exp(2π*im/3))..., L\"e^{2\\frac{\\pi}{3}}\")\n",
    "text(reim(exp(-2π*im/3))..., L\"e^{-2\\frac{\\pi}{3}}\")"
   ]
  },
  {
   "cell_type": "markdown",
   "metadata": {},
   "source": [
    "Here, we have used Julia's `reim` function:"
   ]
  },
  {
   "cell_type": "code",
   "execution_count": 126,
   "metadata": {
    "collapsed": false
   },
   "outputs": [
    {
     "data": {
      "text/plain": [
       "(-0.4999999999999998,0.8660254037844387)"
      ]
     },
     "execution_count": 126,
     "metadata": {},
     "output_type": "execute_result"
    }
   ],
   "source": [
    "reim(exp(2π*im/3))"
   ]
  },
  {
   "cell_type": "markdown",
   "metadata": {},
   "source": [
    "It returns a tuple. The `...`, or *splat*, operator, unpacks the tuple into two arguments.\n",
    "The `L\"...\"` notation is a special string macro available in the `LateXStrings` package used by `PyPlot`,\n",
    "that makes a LaTeX string."
   ]
  },
  {
   "cell_type": "markdown",
   "metadata": {},
   "source": [
    "Exercise: Make a version that accepts functions and experiment with other complex polynomials. "
   ]
  },
  {
   "cell_type": "markdown",
   "metadata": {},
   "source": [
    "## Introspection and iteration protocol"
   ]
  },
  {
   "cell_type": "markdown",
   "metadata": {},
   "source": [
    "How does Julia know how to iterate using `for` through a vector or range? Let's look at a Unicode string:"
   ]
  },
  {
   "cell_type": "code",
   "execution_count": 127,
   "metadata": {
    "collapsed": false
   },
   "outputs": [
    {
     "data": {
      "text/plain": [
       "\"aαbβ\""
      ]
     },
     "execution_count": 127,
     "metadata": {},
     "output_type": "execute_result"
    }
   ],
   "source": [
    "s = \"aαbβ\"  # use `\\alpha<TAB>`"
   ]
  },
  {
   "cell_type": "code",
   "execution_count": 136,
   "metadata": {
    "collapsed": false
   },
   "outputs": [
    {
     "data": {
      "text/plain": [
       "UTF8String (constructor with 2 methods)"
      ]
     },
     "execution_count": 136,
     "metadata": {},
     "output_type": "execute_result"
    }
   ],
   "source": [
    "typeof(s)"
   ]
  },
  {
   "cell_type": "markdown",
   "metadata": {},
   "source": [
    "Julia provides access to several layers between the high-level code we write and the low-level machine code that is finally produced by the compilation process. The first of those is a \"lowered\" version of the code, in which high-level syntax is transformed to Julia code at a lower level"
   ]
  },
  {
   "cell_type": "code",
   "execution_count": 129,
   "metadata": {
    "collapsed": false
   },
   "outputs": [
    {
     "ename": "LoadError",
     "evalue": "iterate not defined\nwhile loading In[129], in expression starting on line 1",
     "output_type": "error",
     "traceback": [
      "iterate not defined\nwhile loading In[129], in expression starting on line 1",
      ""
     ]
    }
   ],
   "source": [
    "@code_lowered iterate(10)"
   ]
  },
  {
   "cell_type": "markdown",
   "metadata": {},
   "source": [
    "We see that there are three important functions: `start`, `next` and `done`.\n",
    "For example, iterating through a Unicode `UTF8String` is complicated, since characters have different lengths:"
   ]
  },
  {
   "cell_type": "code",
   "execution_count": 130,
   "metadata": {
    "collapsed": false
   },
   "outputs": [
    {
     "data": {
      "text/plain": [
       "'a'"
      ]
     },
     "execution_count": 130,
     "metadata": {},
     "output_type": "execute_result"
    }
   ],
   "source": [
    "s[1]"
   ]
  },
  {
   "cell_type": "code",
   "execution_count": 131,
   "metadata": {
    "collapsed": false
   },
   "outputs": [
    {
     "data": {
      "text/plain": [
       "'α'"
      ]
     },
     "execution_count": 131,
     "metadata": {},
     "output_type": "execute_result"
    }
   ],
   "source": [
    "s[2]"
   ]
  },
  {
   "cell_type": "code",
   "execution_count": 132,
   "metadata": {
    "collapsed": false
   },
   "outputs": [
    {
     "ename": "LoadError",
     "evalue": "invalid UTF-8 character index\nwhile loading In[132], in expression starting on line 1",
     "output_type": "error",
     "traceback": [
      "invalid UTF-8 character index\nwhile loading In[132], in expression starting on line 1",
      "",
      " in next at ./utf8.jl:69",
      " in getindex at string.jl:57"
     ]
    }
   ],
   "source": [
    "s[3]"
   ]
  },
  {
   "cell_type": "markdown",
   "metadata": {},
   "source": [
    "Nonetheless, we can iterate through `s`:"
   ]
  },
  {
   "cell_type": "code",
   "execution_count": 133,
   "metadata": {
    "collapsed": false
   },
   "outputs": [
    {
     "data": {
      "text/plain": [
       "string_iterate (generic function with 1 method)"
      ]
     },
     "execution_count": 133,
     "metadata": {},
     "output_type": "execute_result"
    }
   ],
   "source": [
    "function string_iterate(s)\n",
    "    for c in s\n",
    "        println(c)\n",
    "    end\n",
    "end"
   ]
  },
  {
   "cell_type": "code",
   "execution_count": 134,
   "metadata": {
    "collapsed": false
   },
   "outputs": [
    {
     "name": "stdout",
     "output_type": "stream",
     "text": [
      "a\n",
      "α\n",
      "b\n",
      "β\n"
     ]
    }
   ],
   "source": [
    "string_iterate(s)"
   ]
  },
  {
   "cell_type": "markdown",
   "metadata": {},
   "source": [
    "For example, we can extract a list of the characters in `s` with"
   ]
  },
  {
   "cell_type": "code",
   "execution_count": 135,
   "metadata": {
    "collapsed": false
   },
   "outputs": [
    {
     "data": {
      "text/plain": [
       "4-element Array{Any,1}:\n",
       " 'a'\n",
       " 'α'\n",
       " 'b'\n",
       " 'β'"
      ]
     },
     "execution_count": 135,
     "metadata": {},
     "output_type": "execute_result"
    }
   ],
   "source": [
    "chars = [c for c in s]"
   ]
  },
  {
   "cell_type": "code",
   "execution_count": null,
   "metadata": {
    "collapsed": false
   },
   "outputs": [],
   "source": [
    "chars[1]"
   ]
  },
  {
   "cell_type": "code",
   "execution_count": null,
   "metadata": {
    "collapsed": false
   },
   "outputs": [],
   "source": [
    "typeof(chars[1])"
   ]
  },
  {
   "cell_type": "markdown",
   "metadata": {},
   "source": [
    "Note that in Julia, strings are written with `\"` and characters with `'` (as in C)."
   ]
  },
  {
   "cell_type": "markdown",
   "metadata": {},
   "source": [
    "The interface that allows us to iterate over an object using `for` is provided by three functions `start`, `next` and `done` that must be defined for that type:"
   ]
  },
  {
   "cell_type": "code",
   "execution_count": null,
   "metadata": {
    "collapsed": false
   },
   "outputs": [],
   "source": [
    "start(s)"
   ]
  },
  {
   "cell_type": "code",
   "execution_count": null,
   "metadata": {
    "collapsed": false
   },
   "outputs": [],
   "source": [
    "next(s, 1)"
   ]
  },
  {
   "cell_type": "code",
   "execution_count": null,
   "metadata": {
    "collapsed": false
   },
   "outputs": [],
   "source": [
    "next(s, 2)"
   ]
  },
  {
   "cell_type": "code",
   "execution_count": null,
   "metadata": {
    "collapsed": false
   },
   "outputs": [],
   "source": [
    "done(s, 2)"
   ]
  },
  {
   "cell_type": "code",
   "execution_count": null,
   "metadata": {
    "collapsed": false
   },
   "outputs": [],
   "source": [
    "@which start(s)"
   ]
  },
  {
   "cell_type": "markdown",
   "metadata": {
    "collapsed": true
   },
   "source": [
    "For more details about introspection, check out Leah Hanson's [blog post](http://blog.leahhanson.us/julia-introspects.html)."
   ]
  },
  {
   "cell_type": "code",
   "execution_count": null,
   "metadata": {
    "collapsed": false
   },
   "outputs": [],
   "source": [
    "@which next(s, 1)"
   ]
  }
 ],
 "metadata": {
  "kernelspec": {
   "display_name": "Julia 0.3.11",
   "language": "julia",
   "name": "julia-0.3"
  },
  "language_info": {
   "file_extension": ".jl",
   "mimetype": "application/julia",
   "name": "julia",
   "version": "0.3.11"
  }
 },
 "nbformat": 4,
 "nbformat_minor": 0
}
