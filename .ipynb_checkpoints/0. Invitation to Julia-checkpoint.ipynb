{
 "cells": [
  {
   "cell_type": "markdown",
   "metadata": {
    "slideshow": {
     "slide_type": "slide"
    }
   },
   "source": [
    "# Why Julia?"
   ]
  },
  {
   "cell_type": "markdown",
   "metadata": {
    "slideshow": {
     "slide_type": "fragment"
    }
   },
   "source": [
    "# Or: \"Why should I waste my precious time learning yet another faddish programming language??\""
   ]
  },
  {
   "cell_type": "markdown",
   "metadata": {
    "slideshow": {
     "slide_type": "fragment"
    }
   },
   "source": [
    "##[David P. Sanders](http://sistemas.fciencias.unam.mx/~dsanders/)\n",
    "\n",
    "\n",
    "\n",
    "###Department of Physics, Faculty of Sciences\n",
    "###National University of Mexico (UNAM)\n",
    "\n",
    "\n",
    "###Twitter:  @DavidPSanders\n",
    "###GitHub:  dpsanders"
   ]
  },
  {
   "cell_type": "markdown",
   "metadata": {
    "slideshow": {
     "slide_type": "slide"
    }
   },
   "source": [
    "# Advantages of Julia"
   ]
  },
  {
   "cell_type": "markdown",
   "metadata": {
    "slideshow": {
     "slide_type": "fragment"
    }
   },
   "source": [
    "Julia is:\n",
    "\n",
    "- high-level and easy to learn\n",
    "- an interactive, dynamic language\n",
    "- but Just-In-Time (JIT) compiled"
   ]
  },
  {
   "cell_type": "markdown",
   "metadata": {
    "slideshow": {
     "slide_type": "fragment"
    }
   },
   "source": [
    "So, Julia\n",
    "\n",
    "- is fast (~2-3x C speed)\n",
    "\n",
    "- solves the infamous **two-language problem**\n",
    "\n"
   ]
  },
  {
   "cell_type": "markdown",
   "metadata": {
    "slideshow": {
     "slide_type": "fragment"
    }
   },
   "source": [
    "\n",
    "- Most of the standard library is implemented *in Julia itself* \n",
    "\n",
    "- \"Users are developers\"\n"
   ]
  },
  {
   "cell_type": "markdown",
   "metadata": {
    "slideshow": {
     "slide_type": "subslide"
    }
   },
   "source": [
    "Julia:\n",
    "\n",
    "- has a sophisticated type system\n",
    "- but it is not *necessary* to talk about types\n",
    "\n",
    "- has *multiple dispatch*: functions specialised on the types of their arguments\n",
    "\n"
   ]
  },
  {
   "cell_type": "markdown",
   "metadata": {
    "slideshow": {
     "slide_type": "fragment"
    }
   },
   "source": [
    "\n",
    "- has sophisticated *metaprogramming* (macros) for generating code programatically\n",
    "- allows the creation of domain-specific languages\n"
   ]
  },
  {
   "cell_type": "markdown",
   "metadata": {
    "slideshow": {
     "slide_type": "subslide"
    }
   },
   "source": [
    "Julia is:\n",
    "\n",
    "- open source\n",
    "\n",
    "- free\n",
    "\n",
    "- MIT license (allows commercial use)\n",
    "\n",
    "- developed by a worldwide community"
   ]
  },
  {
   "cell_type": "markdown",
   "metadata": {
    "slideshow": {
     "slide_type": "subslide"
    }
   },
   "source": [
    "Julia is:\n",
    "\n",
    "- a **new direction** in scientific computing"
   ]
  },
  {
   "cell_type": "markdown",
   "metadata": {
    "slideshow": {
     "slide_type": "subslide"
    }
   },
   "source": [
    "Julia is:\n",
    "\n",
    "- the **future** of scientific computing"
   ]
  },
  {
   "cell_type": "markdown",
   "metadata": {
    "slideshow": {
     "slide_type": "slide"
    }
   },
   "source": [
    "# Using Julia"
   ]
  },
  {
   "cell_type": "markdown",
   "metadata": {
    "slideshow": {
     "slide_type": "subslide"
    }
   },
   "source": [
    "- From the REPL (Read--Eval--Print Loop):\n",
    "\n",
    "        julia\n",
    "    \n",
    "    \n",
    "    \n",
    "- Inside IJulia notebook (Jupyter notebook with Julia kernel):\n",
    "\n",
    "        ipython notebook\n",
    "\n",
    "\n",
    "\n",
    "- Inside an IDE, e.g. Juno\n",
    "\n",
    "\n",
    "\n",
    "- In the cloud: [JuliaBox](https://juliabox.org/)"
   ]
  },
  {
   "cell_type": "markdown",
   "metadata": {
    "slideshow": {
     "slide_type": "slide"
    }
   },
   "source": [
    "# Getting help with Julia"
   ]
  },
  {
   "cell_type": "markdown",
   "metadata": {
    "slideshow": {
     "slide_type": "fragment"
    }
   },
   "source": [
    "- [Julia manual](http://julia.readthedocs.org/en/latest/manual)\n",
    "\n",
    "\n",
    "\n",
    "- [`julia-users` mailing list](https://groups.google.com/forum/#!forum/julia-users)\n",
    "\n",
    "\n",
    "\n",
    "- [List of resources for learning Julia](http://julialang.org/learning/)\n",
    "\n",
    "\n",
    "\n",
    "- [Hands-on Julia](https://github.com/dpsanders/hands_on_julia): A hands-on tutorial covering the same ground as a series of exercises\n"
   ]
  },
  {
   "cell_type": "markdown",
   "metadata": {
    "slideshow": {
     "slide_type": "slide"
    }
   },
   "source": [
    "# Goal of the workshop "
   ]
  },
  {
   "cell_type": "markdown",
   "metadata": {
    "slideshow": {
     "slide_type": "subslide"
    }
   },
   "source": [
    "- Introduce some of the basic ideas that makes Julia different\n",
    "\n",
    "\n",
    "- Think in a Julian way\n",
    "\n",
    "\n",
    "- Based on examples\n",
    "\n",
    "\n"
   ]
  }
 ],
 "metadata": {
  "kernelspec": {
   "display_name": "Julia 0.3.11",
   "language": "julia",
   "name": "julia-0.3"
  },
  "language_info": {
   "name": "julia",
   "version": "0.3.11"
  }
 },
 "nbformat": 4,
 "nbformat_minor": 0
}
